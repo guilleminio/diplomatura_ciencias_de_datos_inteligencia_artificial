{
  "nbformat": 4,
  "nbformat_minor": 0,
  "metadata": {
    "colab": {
      "provenance": [],
      "authorship_tag": "ABX9TyPykmP0wyW/GOjlhPSBk3qA"
    },
    "kernelspec": {
      "name": "python3",
      "display_name": "Python 3"
    },
    "language_info": {
      "name": "python"
    }
  },
  "cells": [
    {
      "cell_type": "markdown",
      "source": [
        "#Ejercicios:\n",
        "\n",
        "**Armando un diccionario de notas.** A continuación damos una lista de tuplas, donde cada tupla corresponde a un alumno de un curso, con `(nombre, dni, nota)`. Armá a partir de la lista un diccionario `dic_notas` que tenga como clave el nombre y como valor la nota de cada alumno."
      ],
      "metadata": {
        "id": "csOwL5WyPOqH"
      }
    },
    {
      "cell_type": "code",
      "source": [
        "alumnos = [\n",
        "    ('Carlos Gómez', 41008418, 5),\n",
        "    ('Gabriela Torres', 45790918, 8),\n",
        "    ('Juan Pérez', 48327044, 9),\n",
        "    ('Éric Guay', 35360531, 7),\n",
        "    ('Juana Monte', 31583398, 10),\n",
        "    ('Carla Díaz', 43772387, 6)]\n",
        "\n",
        "# diccionario notas:\n",
        "dic_alumnos = {}\n",
        "for alumno in alumnos:\n",
        "  dic_alumnos[alumno[0]] = alumno[2]\n",
        "print(dic_alumnos)"
      ],
      "metadata": {
        "colab": {
          "base_uri": "https://localhost:8080/"
        },
        "id": "q7ImgFY4PUrO",
        "outputId": "af51f026-acc1-4387-d451-b7ad1a864f6a"
      },
      "execution_count": 1,
      "outputs": [
        {
          "output_type": "stream",
          "name": "stdout",
          "text": [
            "{'Carlos Gómez': 5, 'Gabriela Torres': 8, 'Juan Pérez': 9, 'Éric Guay': 7, 'Juana Monte': 10, 'Carla Díaz': 6}\n"
          ]
        }
      ]
    },
    {
      "cell_type": "markdown",
      "source": [
        "Usando **comprensión**:"
      ],
      "metadata": {
        "id": "IuHZxGKqPYLV"
      }
    },
    {
      "cell_type": "code",
      "source": [
        "alumnos = [\n",
        "    ('Carlos Gómez', 41008418, 5),\n",
        "    ('Gabriela Torres', 45790918, 8),\n",
        "    ('Juan Pérez', 48327044, 9),\n",
        "    ('Éric Guay', 35360531, 7),\n",
        "    ('Juana Monte', 31583398, 10),\n",
        "    ('Carla Díaz', 43772387, 6)]\n",
        "\n",
        "# diccionario notas:\n",
        "dic_alumnos = { alumno[0]:alumno[2] for alumno in alumnos}\n",
        "print(dic_alumnos)"
      ],
      "metadata": {
        "colab": {
          "base_uri": "https://localhost:8080/"
        },
        "id": "SEMAoOc1Pe-9",
        "outputId": "425f3d37-2514-4a3c-8b80-826387bcb635"
      },
      "execution_count": 2,
      "outputs": [
        {
          "output_type": "stream",
          "name": "stdout",
          "text": [
            "{'Carlos Gómez': 5, 'Gabriela Torres': 8, 'Juan Pérez': 9, 'Éric Guay': 7, 'Juana Monte': 10, 'Carla Díaz': 6}\n"
          ]
        }
      ]
    },
    {
      "cell_type": "markdown",
      "source": [
        "**Lista de diccionarios.** Usando la misma lista de antes, armá ahora una nueva lista en la que a cada alumno le corresponde un diccionario con las claves 'nombre', 'dni' y 'nota'. Por ejemplo, el primer elemento es {'Nombre':'Carlos Gómez', 'dni':41008418, 'nota':5}."
      ],
      "metadata": {
        "id": "KMZaFMpCPovu"
      }
    },
    {
      "cell_type": "code",
      "source": [
        "alumnos = [\n",
        "    ('Carlos Gómez', 41008418, 5),\n",
        "    ('Gabriela Torres', 45790918, 8),\n",
        "    ('Juan Pérez', 48327044, 9),\n",
        "    ('Éric Guay', 35360531, 7),\n",
        "    ('Juana Monte', 31583398, 10),\n",
        "    ('Carla Díaz', 43772387, 6)]\n",
        "\n",
        "# lista diccionario:\n",
        "lista_alumnos = []\n",
        "nombre = {}\n",
        "dni = {}\n",
        "nota = {}\n",
        "for alumno in alumnos:\n",
        "  lista_alumnos.append({'nombre':alumno[0],'dni':alumno[1],'nota':alumno[2]})\n",
        "\n",
        "print(lista_alumnos)"
      ],
      "metadata": {
        "colab": {
          "base_uri": "https://localhost:8080/"
        },
        "id": "OCmDAh67PwNd",
        "outputId": "1c8e6a29-ad02-47a3-88ae-f1a53fe57d9d"
      },
      "execution_count": 3,
      "outputs": [
        {
          "output_type": "stream",
          "name": "stdout",
          "text": [
            "[{'nombre': 'Carlos Gómez', 'dni': 41008418, 'nota': 5}, {'nombre': 'Gabriela Torres', 'dni': 45790918, 'nota': 8}, {'nombre': 'Juan Pérez', 'dni': 48327044, 'nota': 9}, {'nombre': 'Éric Guay', 'dni': 35360531, 'nota': 7}, {'nombre': 'Juana Monte', 'dni': 31583398, 'nota': 10}, {'nombre': 'Carla Díaz', 'dni': 43772387, 'nota': 6}]\n"
          ]
        }
      ]
    },
    {
      "cell_type": "markdown",
      "source": [
        "Usando **comprensión**:"
      ],
      "metadata": {
        "id": "ALFoFlS3P3nt"
      }
    },
    {
      "cell_type": "code",
      "source": [
        "alumnos = [\n",
        "    ('Carlos Gómez', 41008418, 5),\n",
        "    ('Gabriela Torres', 45790918, 8),\n",
        "    ('Juan Pérez', 48327044, 9),\n",
        "    ('Éric Guay', 35360531, 7),\n",
        "    ('Juana Monte', 31583398, 10),\n",
        "    ('Carla Díaz', 43772387, 6)]\n",
        "    \n",
        "# lista diccionarios:\n",
        "lista_dic = [{ 'nombre':alumno[0],'dni':alumno[1],'nota':alumno[2]} for alumno in alumnos]\n",
        "print(lista_dic)"
      ],
      "metadata": {
        "colab": {
          "base_uri": "https://localhost:8080/"
        },
        "id": "Upql1owDP7Wm",
        "outputId": "36970275-0e56-42f1-dd2e-5c9d717a0c1a"
      },
      "execution_count": 4,
      "outputs": [
        {
          "output_type": "stream",
          "name": "stdout",
          "text": [
            "[{'nombre': 'Carlos Gómez', 'dni': 41008418, 'nota': 5}, {'nombre': 'Gabriela Torres', 'dni': 45790918, 'nota': 8}, {'nombre': 'Juan Pérez', 'dni': 48327044, 'nota': 9}, {'nombre': 'Éric Guay', 'dni': 35360531, 'nota': 7}, {'nombre': 'Juana Monte', 'dni': 31583398, 'nota': 10}, {'nombre': 'Carla Díaz', 'dni': 43772387, 'nota': 6}]\n"
          ]
        }
      ]
    }
  ]
}