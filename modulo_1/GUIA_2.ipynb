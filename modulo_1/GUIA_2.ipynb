{
  "nbformat": 4,
  "nbformat_minor": 0,
  "metadata": {
    "colab": {
      "provenance": [],
      "authorship_tag": "ABX9TyM9KY6TLXVGl7mgq4Xa+xgY"
    },
    "kernelspec": {
      "name": "python3",
      "display_name": "Python 3"
    },
    "language_info": {
      "name": "python"
    }
  },
  "cells": [
    {
      "cell_type": "markdown",
      "source": [
        "**RESOLUCIÓN DE EJERCICIOS - GUÍA 2**<br>\n",
        "**AUTOR:** Miño, Guille<br>\n",
        "**FECHA:** Marzo 2023\n",
        "\n",
        "\n",
        "---"
      ],
      "metadata": {
        "id": "KcOZIt4JdhWE"
      }
    },
    {
      "cell_type": "markdown",
      "source": [
        "## Ejercicio 1:\n",
        "\n",
        "Escribir un código que tome una lista de cadenas y que imprima la cadena más larga de la lista.\n",
        "\n",
        "### Comentarios:\n",
        ">Por lo que entiendo, a la entrada (input) la tengo que convertir en una lista. Para ello, puedo usar la función split e indicar el caracter que voy a usar como delimitador\n",
        "\n",
        ">Por otra parte, cuando llamo a la función MAX, le indico que, como criterio (para determinar la cadena más larga), use la longitud de los elementos de la lista."
      ],
      "metadata": {
        "id": "Ac_O2ckmdtSA"
      }
    },
    {
      "cell_type": "code",
      "source": [
        "entrada = input('Ingrese palabras separadas por comas: ')\n",
        "lista = entrada.split(',') \n",
        "print(lista)\n",
        "print( f'La palabra mas larga es: {max(lista, key = len)}')\n"
      ],
      "metadata": {
        "id": "-e2YYzqydufI",
        "colab": {
          "base_uri": "https://localhost:8080/"
        },
        "outputId": "c2620fd2-f827-41b7-ca77-e1cbb1fec661"
      },
      "execution_count": 1,
      "outputs": [
        {
          "output_type": "stream",
          "name": "stdout",
          "text": [
            "Ingrese palabras separadas por comas: casa,pelota,trapo,helicóptero,murciélago,planta,zapato\n",
            "['casa', 'pelota', 'trapo', 'helicóptero', 'murciélago', 'planta', 'zapato']\n",
            "La palabra mas larga es: helicóptero\n"
          ]
        }
      ]
    },
    {
      "cell_type": "markdown",
      "source": [
        "\n",
        "\n",
        "---\n",
        "\n"
      ],
      "metadata": {
        "id": "jbBPgwB-aj1J"
      }
    },
    {
      "cell_type": "markdown",
      "source": [
        "## Ejercicio 2:\n",
        "\n",
        "Escribir un código que tome dos listas como entrada y que cree una nueva lista conteniendo sólo los elementos en común que están en las dos listas.\n",
        "\n",
        "**Nota:** no te preocupes por el tema de que pueden haber elementos duplicados en las listas."
      ],
      "metadata": {
        "id": "VaZTfS0Sak1Y"
      }
    },
    {
      "cell_type": "code",
      "source": [
        "lista1 = input('Ingresa palabras, separadas por comas: ').split(',')\n",
        "lista2 = input('Volvé a ingresar palabras, separadas por comas: ').split(',')\n",
        "\n",
        "#Con comprensión de listas y usando el test de pertenencia\n",
        "nueva_lista = [ item for item in lista1 if item in lista2]\n",
        "\n",
        "print(lista1)\n",
        "print(lista2)\n",
        "print(nueva_lista)\n"
      ],
      "metadata": {
        "id": "ErR5CHtbzyju"
      },
      "execution_count": null,
      "outputs": []
    },
    {
      "cell_type": "markdown",
      "source": [
        "El código sin comprensión sería:\n",
        "\n",
        "\n",
        "```\n",
        "nueva_lista = []\n",
        "for item in lista1:\n",
        "  if item in lista2:\n",
        "    nueva_lista.append(item)\n",
        "```\n",
        "\n"
      ],
      "metadata": {
        "id": "yde6Ac2j05QD"
      }
    },
    {
      "cell_type": "markdown",
      "source": [
        "\n",
        "\n",
        "---\n",
        "\n"
      ],
      "metadata": {
        "id": "SGat7dDHcHxm"
      }
    },
    {
      "cell_type": "markdown",
      "source": [
        "## Ejercicio 3:\n",
        "\n",
        "Escribir un programa que imprima los primeros diez números de la sucesión de Fibonacci. La sucesión de Fibonacci es una secuencia de números donde cada elemento es la suma de los dos anteriores, y se comienza con el 0 y el 1."
      ],
      "metadata": {
        "id": "OJ1LshL-cI0m"
      }
    },
    {
      "cell_type": "code",
      "source": [
        "LIMITE_SUCESION = 10\n",
        "\n",
        "for i in range(LIMITE_SUCESION):\n",
        "  if ( i == 0):\n",
        "    primero = i      #Almaceno el primer valor de la serie\n",
        "    print(i,end=' ')\n",
        "  elif ( i == 1):\n",
        "    segundo = i      #Almaceno el segundo valor de la serie\n",
        "    print(i,end=' ')\n",
        "  else:\n",
        "    suma = primero + segundo  #Genero el siguiente valor a partir de los dos anteriores\n",
        "    print(suma,end= ' ') \n",
        "    primero = segundo  #Actualizo\n",
        "    segundo = suma     #Actualizo\n",
        "\n",
        "\n",
        "### SIN UTILIZAR VARIABLE, SÓLO CON LISTAS\n",
        "fibonacci = []\n",
        "for i in range(LIMITE_SUCESION):\n",
        "  if ( i == 0):\n",
        "    fibonacci.append(i)\n",
        "  elif ( i == 1):\n",
        "    fibonacci.append(i)\n",
        "  else:\n",
        "    fibonacci.append(fibonacci[-1] + fibonacci[-2])  #Para respetar la secuencia, es necesario insertar al final de la lista\n",
        "print(fibonacci)  \n"
      ],
      "metadata": {
        "id": "fonJTzV2cKKW"
      },
      "execution_count": null,
      "outputs": []
    },
    {
      "cell_type": "markdown",
      "source": [
        "\n",
        "\n",
        "---\n",
        "\n"
      ],
      "metadata": {
        "id": "LxuKNXHWgmeT"
      }
    },
    {
      "cell_type": "markdown",
      "source": [
        "## Ejercicio 4:\n",
        "\n",
        "Escribir un programa que tome una cadena como entrada y cuente la cantidad de vocales que hay en ella."
      ],
      "metadata": {
        "id": "kcBGfPXHhGKe"
      }
    },
    {
      "cell_type": "code",
      "source": [
        "palabra = input('Ingresa una palabra por favor: ')\n",
        "vocales = ['a','á','e','é','i','í','o','ó','u','ú']\n",
        "contador = 0\n",
        "for letra in palabra:\n",
        "  if letra.lower() in vocales:\n",
        "    contador = contador + 1\n",
        "\n",
        "print(f'\\\"{palabra}\\\" tiene {contador} vocales')"
      ],
      "metadata": {
        "id": "92UQ6nYqhHWw"
      },
      "execution_count": null,
      "outputs": []
    },
    {
      "cell_type": "markdown",
      "source": [
        "\n",
        "\n",
        "---\n",
        "\n"
      ],
      "metadata": {
        "id": "uM0vMmyphHtO"
      }
    },
    {
      "cell_type": "markdown",
      "source": [
        "## Ejercicio 5:\n",
        "\n",
        "Escribir un programa que tome una lista de palabras (cadenas) y que imprima sólo aquellas que son palíndromos."
      ],
      "metadata": {
        "id": "RReK1_aXhIde"
      }
    },
    {
      "cell_type": "code",
      "source": [
        "lista = ['casa','aploma','ana','neuquen','pelota','roma']\n",
        "palindromos = []\n",
        "\n",
        "for palabra in lista:\n",
        "  palabra_inversa = palabra[ ::-1]\n",
        "  if ( palabra_inversa == palabra):\n",
        "    palindromos.append(palabra)\n",
        "\n",
        "print(palindromos)"
      ],
      "metadata": {
        "id": "cBFDDf3M7a6f"
      },
      "execution_count": null,
      "outputs": []
    },
    {
      "cell_type": "markdown",
      "source": [
        "\n",
        "\n",
        "---\n",
        "\n"
      ],
      "metadata": {
        "id": "qHrw436qhMme"
      }
    },
    {
      "cell_type": "markdown",
      "source": [
        "## Ejercicio 6:\n",
        "\n",
        "El siguiente código tiene un problema. ¿Podés identificar cuál es y corregirlo?\n",
        "\n",
        "\n",
        "\n",
        "```\n",
        "numero = 10.2\n",
        "\n",
        "if (numero % 2) == 1:\n",
        "  print('El número es impar')\n",
        "else:\n",
        "  print('El número es par')\n",
        "if (numero % 2) == 0 or (numero % 2) == 1:\n",
        "  print('El número no es ni par ni impar. Hay algo raro...')\n",
        "```\n",
        "\n",
        "##Respuesta: \n",
        "El problema es que se está comparando un decimal con un entero."
      ],
      "metadata": {
        "id": "yC90UEJzhN9u"
      }
    },
    {
      "cell_type": "markdown",
      "source": [
        "\n",
        "\n",
        "---\n",
        "\n"
      ],
      "metadata": {
        "id": "1pr8sPtthW7l"
      }
    },
    {
      "cell_type": "markdown",
      "source": [
        "## Ejercicio 7:\n",
        "\n",
        "El siguiente código también tiene un problema. ¿Podés identificar cuál es y corregirlo?\n",
        "\n",
        "\n",
        "\n",
        "```\n",
        "palabra = 'Cocos'\n",
        "\n",
        "if 'a' or 'A' in palabra:\n",
        "  print(f'La palabra \\\"{palabra}\\\" contiene una \\\"a\\\"')\n",
        "else:\n",
        "  print(f'La palabra \\\"{palabra}\\\" no contiene una \\\"a\\\"')\n",
        "```\n",
        "El problema que surge de este código es que, cualquier valor distinto de 0, Python lo toma como **True**. Entonces, la expresión 'a' or 'A', va a ser siempre verdadera (porque tanto 'a', comp 'A' son valores distintos de 0), y, como hay **evaluación perezosa**, no continua con el **in** (porque la primera condición del **or** es **VERDADERA**, no necesita continuar evaluando).\n"
      ],
      "metadata": {
        "id": "48iRG08whXs9"
      }
    },
    {
      "cell_type": "code",
      "source": [
        "palabra = 'Cocos'\n",
        "\n",
        "#una solución..\n",
        "if 'A'.lower() in palabra:\n",
        "  print(f'La palabra \\\"{palabra}\\\" contiene una \\\"a\\\"')\n",
        "else:\n",
        "  print(f'La palabra \\\"{palabra}\\\" no contiene una \\\"a\\\"')\n",
        "\n",
        "#otra solución...\n",
        "if ('a' in palabra) or ('A' in palabra):\n",
        "  print(f'La palabra \\\"{palabra}\\\" contiene una \\\"a\\\"')\n",
        "else:\n",
        "  print(f'La palabra \\\"{palabra}\\\" no contiene una \\\"a\\\"')"
      ],
      "metadata": {
        "id": "zFicNC5NheKF"
      },
      "execution_count": null,
      "outputs": []
    },
    {
      "cell_type": "markdown",
      "source": [
        "\n",
        "\n",
        "---\n",
        "\n"
      ],
      "metadata": {
        "id": "FtCbOBAWheem"
      }
    },
    {
      "cell_type": "markdown",
      "source": [
        "## Ejercicio 8:\n",
        "\n",
        "*FizzBuzz* es un juego de palabras grupal para que los niños aprendan sobre la división, pero se suele usar como un ejercicio clásico de programación. En el juego los jugadores se turnan para contar de forma incremental, reemplazando cualquier número divisible por tres con la palabra \"fizz\", y cualquier número divisible por cinco con la palabra \"buzz\", y cualquier número divisible por 3 y 5 con la palabra \"fizzbuzz\".\n",
        "\n",
        "Hace un programa que imprima los números del 1 al 30, pero reemplazando los múltiplos de 3 y/o 5 por \"fizz\", \"buzz\" ó \"fizzbuzz\" siguiendo las reglas del juego."
      ],
      "metadata": {
        "id": "Q1xeL9YzhfY1"
      }
    },
    {
      "cell_type": "code",
      "source": [
        "#Usando comprensión de listas\n",
        "print('Lista: ', [('Fizz'*(numero%3==0) + 'Buzz'*(numero%5==0)) or numero for numero in range(1,31)])"
      ],
      "metadata": {
        "id": "9Yw4tBOthiQ1",
        "colab": {
          "base_uri": "https://localhost:8080/"
        },
        "outputId": "09dfb251-b275-4b48-9aac-4016caa0ca4c"
      },
      "execution_count": null,
      "outputs": [
        {
          "output_type": "stream",
          "name": "stdout",
          "text": [
            "Lista:  [1, 2, 'Fizz', 4, 'Buzz', 'Fizz', 7, 8, 'Fizz', 'Buzz', 11, 'Fizz', 13, 14, 'FizzBuzz', 16, 17, 'Fizz', 19, 'Buzz', 'Fizz', 22, 23, 'Fizz', 'Buzz', 26, 'Fizz', 28, 29, 'FizzBuzz']\n"
          ]
        }
      ]
    },
    {
      "cell_type": "code",
      "source": [
        "#Sin comprensión de listas\n",
        "for numero in range(1,31):\n",
        "  if ( numero % 3 == 0) and (numero % 5 == 0):\n",
        "    print('FizzBuzz',end=' ')\n",
        "  elif (numero % 3 == 0):\n",
        "    print('Fizz',end=' ')\n",
        "  elif (numero % 5 == 0):\n",
        "    print('Buzz',end=' ')\n",
        "  else:\n",
        "    print(numero,end=' ')"
      ],
      "metadata": {
        "colab": {
          "base_uri": "https://localhost:8080/"
        },
        "id": "MXRdptjq-VZR",
        "outputId": "65330450-1358-46a7-ced7-98d6de13c2b8"
      },
      "execution_count": 34,
      "outputs": [
        {
          "output_type": "stream",
          "name": "stdout",
          "text": [
            "1 2 Fizz 4 Buzz Fizz 7 8 Fizz Buzz 11 Fizz 13 14 FizzBuzz 16 17 Fizz 19 Buzz Fizz 22 23 Fizz Buzz 26 Fizz 28 29 FizzBuzz "
          ]
        }
      ]
    },
    {
      "cell_type": "markdown",
      "source": [
        "\n",
        "\n",
        "---\n",
        "\n"
      ],
      "metadata": {
        "id": "rVk0UhXThinN"
      }
    },
    {
      "cell_type": "markdown",
      "source": [
        "## Ejercicio 9:\n",
        "En base a las listas ficticias de alumnos, con datos como nombre, apellido, y nota (calificación).\n",
        "\n",
        "Escribir un programa que:\n",
        "\n",
        "* Imprima el nombre y apellido de los alumnos de manera ordenada alfabéticamente por el apellido\n",
        "* Calcule el promedio de notas de la cursada, e informe la nota máxima y la mínima.\n",
        "* Genere una variable llamada \"aprobados\" con un a lista de alumnos aprobados (se aprueba con 7)\n",
        "* Genere una variable (lista) conteniendo valores booleanos (True/False), que corresponda a los alummnos aprobados (`True`) o desaprobados (`False`)\n",
        "\n",
        "*NOTA: el orden de las listas es el mismo, vale decir, la nota de Laura Pérez es 7, y asi sucesivamente.*\n",
        "\n",
        "\n",
        "\n",
        "```\n",
        "nombres = ['Laura', 'Juan', 'Tomás', 'Ana', 'Diego', 'Carla', 'Kim', 'Sofía']\n",
        "apellidos = ['Pérez', 'Isla', 'Gómez', 'Castro', 'Roca', 'Romero', 'Díaz', 'López']\n",
        "notas = [7, 4, 9, 5, 7, 8, 6, 10]\n",
        "```\n",
        "\n"
      ],
      "metadata": {
        "id": "oPm5BJ2zgnav"
      }
    },
    {
      "cell_type": "code",
      "source": [
        "#Datos iniciales\n",
        "nombres = ['Laura', 'Juan', 'Tomás', 'Ana', 'Diego', 'Carla', 'Kim', 'Sofía']\n",
        "apellidos = ['Pérez', 'Isla', 'Gómez', 'Castro', 'Roca', 'Romero', 'Díaz', 'López']\n",
        "notas = [7, 4, 9, 5, 7, 8, 6, 10]\n",
        "\n",
        "#Creo una lista de tuplas con (apellido,nombre,nota) para poder ordenar por apellido\n",
        "alumnos = list(zip(apellidos,nombres,notas))\n",
        "\n",
        "#Ahora ordeno\n",
        "alumnos_ordenados = sorted(alumnos)\n",
        "\n",
        "suma = 0\n",
        "aprobados = []\n",
        "lista_booleana = []\n",
        "NOTA_APROBACION = 7\n",
        "for alumno in alumnos_ordenados:\n",
        "  #Imprimo nombre y apellido\n",
        "  print('{',alumno[1],', ',alumno[0],'}',end=' ,')\n",
        "  #Sumo las notas para luego calcular el promedio\n",
        "  suma = suma + alumno[-1]\n",
        "  #Añado los aprobados segund corresponda\n",
        "  if alumno[-1] >= NOTA_APROBACION:\n",
        "    aprobados.append(alumno)\n",
        "    lista_booleana.append(True)\n",
        "  else:\n",
        "    lista_booleana.append(False)\n",
        "\n",
        "print('Promedio: ',round(suma/len(alumnos),2))\n",
        "print('Nota maxima: ',max(notas))\n",
        "print('Nota mínima: ',min(notas))\n",
        "print('Aprobados: ',aprobados)\n",
        "print('Aprobados / desaprobados (en el orden por apellido): ',lista_booleana)"
      ],
      "metadata": {
        "colab": {
          "base_uri": "https://localhost:8080/"
        },
        "id": "2EbF8QPT_O8B",
        "outputId": "5228cb76-2eb9-4602-c952-3d2524f3b99e"
      },
      "execution_count": 48,
      "outputs": [
        {
          "output_type": "stream",
          "name": "stdout",
          "text": [
            "{ Ana ,  Castro } ,{ Kim ,  Díaz } ,{ Tomás ,  Gómez } ,{ Juan ,  Isla } ,{ Sofía ,  López } ,{ Laura ,  Pérez } ,{ Diego ,  Roca } ,{ Carla ,  Romero } ,Promedio:  7.0\n",
            "Nota maxima:  10\n",
            "Nota mínima:  4\n",
            "Aprobados:  [('Gómez', 'Tomás', 9), ('López', 'Sofía', 10), ('Pérez', 'Laura', 7), ('Roca', 'Diego', 7), ('Romero', 'Carla', 8)]\n",
            "Aprobados / desaprobados (en el orden por apellido):  [False, False, True, False, True, True, True, True]\n"
          ]
        }
      ]
    }
  ]
}
