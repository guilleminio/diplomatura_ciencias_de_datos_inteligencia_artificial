{
  "nbformat": 4,
  "nbformat_minor": 0,
  "metadata": {
    "colab": {
      "provenance": [],
      "authorship_tag": "ABX9TyNzW1b/g7b4i1Xvz8Q9qHHC"
    },
    "kernelspec": {
      "name": "python3",
      "display_name": "Python 3"
    },
    "language_info": {
      "name": "python"
    }
  },
  "cells": [
    {
      "cell_type": "markdown",
      "source": [
        "**RESOLUCIÓN DE EJERCICIOS - GUÍA 1**<br>\n",
        "**AUTOR:** Miño, Guille<br>\n",
        "**FECHA:** Marzo 2023\n",
        "\n",
        "\n",
        "---\n",
        "\n"
      ],
      "metadata": {
        "id": "XfHUp_jKinIN"
      }
    },
    {
      "cell_type": "markdown",
      "source": [
        "## Ejercicio 1:\n",
        "\n",
        "> a. Crea 3 variables, una entera, una flotante y una cadena de texto.\n",
        "\n",
        "> b. Imprime cada una de las variables en la consola.\n",
        "\n",
        "> c. Crea una variable booleana y asignale un valor.\n",
        "\n",
        "> d. Imprime la variable booleana en la consola.\n",
        "\n",
        "###Comentarios:\n",
        ">Python es un lenguaje **fuertemente tipado**. Esto quiere decir que no acepta violaciones de los tipos de datos. Ahora bien, a diferencia de otros lenguajes de programación como es el caso de Java, en Python no es necesario llevar a cabo la tipificación estática. Es decir, Python establece el tipo de la variable en tiempo de ejecución, lo que se conoce como **tipificación dinámica**. Por tal motivo, no indico de qué tipo de variable se trata.\n"
      ],
      "metadata": {
        "id": "0OZTgMOyjBr0"
      }
    },
    {
      "cell_type": "code",
      "source": [
        "## Inciso a) \n",
        "variableEntera = 10\n",
        "variableFlotante = 10.4\n",
        "variableTexto = 'Guille'\n",
        "\n",
        "## Inciso b)\n",
        "print(variableEntera)\n",
        "print(variableFlotante)\n",
        "print(variableTexto)\n",
        "\n",
        "## Inciso c)\n",
        "variableBooleana = True\n",
        "\n",
        "## Inciso d)\n",
        "print(variableBooleana)\n",
        "\n",
        "##Corroboración\n",
        "print(type(variableEntera))\n",
        "print(type(variableFlotante))\n",
        "print(type(variableTexto))\n",
        "print(type(variableBooleana))"
      ],
      "metadata": {
        "id": "R4RV44Mojd2m"
      },
      "execution_count": null,
      "outputs": []
    },
    {
      "cell_type": "markdown",
      "source": [
        "\n",
        "\n",
        "---\n",
        "\n"
      ],
      "metadata": {
        "id": "Pnhem0UFlxho"
      }
    },
    {
      "cell_type": "markdown",
      "source": [
        "## Ejercicio 2:\n",
        "\n",
        "> a.    Crea una variable entera llamada edad y asígnale un valor.\n",
        "\n",
        "> b.    Crea una variable flotante llamada altura y asígnale un valor.\n",
        "\n",
        "> c.    Crea una variable de texto llamada nombre y asígnale un valor.\n",
        "\n",
        "> d.    Crea una variable booleana llamada soltero y asígnale un valor.\n",
        "\n",
        "> e.    Imprime en la consola la edad, la altura, el nombre y el estado civil (soltero o no soltero).\n",
        "\n",
        "> f.    Crea una variable llamada todos_datos que sea una lista que contenga la edad, la altura, el nombre y el estado civil.\n",
        "\n",
        "> g.    Imprime la lista todos_datos en la consola.\n",
        "\n",
        "###Comentarios:\n",
        "> Si se hace: <br>\n",
        "  <ul>\n",
        "  <li>int edad</li>\n",
        "  <li>float altura</li>\n",
        "  <li>str nombre</li>\n",
        "  </ul>\n",
        "  Se tendrá el error **SyntaxError: invalid syntax**. Adivina por qué..."
      ],
      "metadata": {
        "id": "fEGxXlqalyd_"
      }
    },
    {
      "cell_type": "code",
      "source": [
        "## Inciso a)\n",
        "edad = 20 #variable tipo entera\n",
        "## Inciso b)\n",
        "altura = 1.70 #variable flotante, altura expresada en metros\n",
        "## Inciso c)\n",
        "nombre = 'Guille' #variable tipo string\n",
        "## Inciso d)\n",
        "soltero = True #variable booleana\n",
        "## Inciso e)\n",
        "print('Imprimiendo los datos:')\n",
        "print('Edad: ', edad)\n",
        "print('altura: ', altura)\n",
        "print('nombre: ', nombre)\n",
        "print('Soltero?: ', 'Si :)' if soltero else 'No :(')\n",
        "\n",
        "## Inciso f)\n",
        "todos_los_datos = [edad, altura, nombre, soltero]\n",
        "## Inciso g)\n",
        "print('--------- IMPRIMIENDO LA LISTA DE DATOS --------------')\n",
        "print(todos_los_datos)"
      ],
      "metadata": {
        "id": "RJTWACY_l48S"
      },
      "execution_count": null,
      "outputs": []
    },
    {
      "cell_type": "markdown",
      "source": [
        "\n",
        "\n",
        "---\n",
        "\n"
      ],
      "metadata": {
        "id": "veZHB964pj2J"
      }
    },
    {
      "cell_type": "markdown",
      "source": [
        "## Ejercicio 3:\n",
        "\n",
        "\n",
        "*El índice de masa corporal (IMC) se puede calcular utilizando la siguiente fórmula:*\n",
        "\n",
        "> *IMC = P / A^2*\n",
        "\n",
        "> *donde P es el peso de la persona en kilogramos y A es la altura de la misma persona en metros. La fórmula resulta en un número que se utiliza para determinar si una persona está en un peso saludable o no.* \n",
        "\n",
        "*Un IMC normal se encuentra entre 18.5 y 24.9 kg/m^2. Un IMC menor a 18.5 kg/m^2 se considera bajo peso, mientras que un IMC mayor a 25 kg/m^2 se considera sobrepeso. Un IMC mayor a 30 kg/m^2 se considera obesidad. Sin embargo, estos valores son solo una guía y no son válidos para todas las personas, especialmente aquellas con una gran cantidad de músculo o deportistas.*\n",
        "\n",
        "**Crea un programa que te pida (usando input()) las siguientes informaciones: nombre, edad, peso en kg y altura en m y que te devuelva el nombre, la edad y el índice de masa corporal de esa persona.**\n",
        "\n",
        "\n",
        "*PISTA: input() siempre devuelve siempre una cadena*"
      ],
      "metadata": {
        "id": "prf0riDEpltX"
      }
    },
    {
      "cell_type": "code",
      "source": [
        "## Primero, le pedimos al usuario que ingrese su nombre\n",
        "nombre =  input('Ingresa tu nombre: ')\n",
        "## Segundo, le pedimos su edad. En este caso, es necesario hacer un cast a int \n",
        "## (forzar a que lo que se ingrese se convierta en int, porque todo lo que sea \n",
        "## input siempre será un string). Si el usuario no ingresa un int, se tendrá un\n",
        "## error 'ValueError: invalid literal for int() with base 10'\n",
        "edad = int(input('Ingresa tu edad: '))\n",
        "## Tercero, le pedimos el peso en KG. De nuevo, en este caso, se hace un cast\n",
        "## a float. Si no lo puede convertir, tendremos un error de tipo ValueError\n",
        "peso = float(input('Ingresa tu peso en kg: '))\n",
        "## Por último, le pedimos la altura en metros. También hay que castear a float\n",
        "altura = float(input('Ingresa tu altura en metros: '))\n",
        "\n",
        "##Ahora, vamos a mostrar los datos y calcular el índice\n",
        "print('Nombre: ',nombre)\n",
        "print('Edad: ', edad)\n",
        "print('Peso: ', peso)\n",
        "print('Altura: ', altura)\n",
        "\n",
        "\n",
        "\n",
        "print('\\n\\n*********** CÁLCULO ÍNDICE DE MASA CORPORAL ***************\\n')\n",
        "indice = peso/altura**2\n",
        "print('Tu índice de masa corporal es: ', indice)\n",
        "\n",
        "##No lo pide, pero para practicar los condicionales....\n",
        "INDICE_COTA_MENOR = 18.5\n",
        "INDICE_COTA_MAYOR = 25.0\n",
        "INDICE_SUPER = 30.0\n",
        "if indice < INDICE_COTA_MENOR:\n",
        "  print('Bajo peso')\n",
        "else: \n",
        "  if indice > INDICE_COTA_MAYOR:\n",
        "    print('Sobrepeso')\n",
        "  else:\n",
        "     if indice > INDICE_SUPER:\n",
        "        print('Obesidad')\n",
        "     else:\n",
        "        print('Todo normal :)')"
      ],
      "metadata": {
        "id": "w9eDO23JpriM"
      },
      "execution_count": null,
      "outputs": []
    },
    {
      "cell_type": "markdown",
      "source": [
        "\n",
        "\n",
        "---\n",
        "\n"
      ],
      "metadata": {
        "id": "AmzcQtZfvUmM"
      }
    },
    {
      "cell_type": "markdown",
      "source": [
        "## Ejercicio 4:\n",
        "\n",
        "Crea un código que declare una variable con el número 5 elevado a la cuarta potencia. Luego que escriba en pantalla un mensaje que diga el tipo de variable declarada. Luego hacer lo mismo, pero cambiando el exponente a 1/2 y a una potencia negativa. "
      ],
      "metadata": {
        "id": "dCECfGB0vevb"
      }
    },
    {
      "cell_type": "code",
      "source": [
        "#Declaro la variable con el valor solicitado...\n",
        "variable = 5**4\n",
        "#Muestro el tipo de la variable\n",
        "print('La variable \\'variable\\' es de tipo: ',type(variable))\n",
        "#Declaro otra variable\n",
        "otraVariable = 4**(1/2)\n",
        "#Muestro el tipo de la variable\n",
        "print('La variable \\'otraVariable\\' es de tipo: ', type(otraVariable))\n",
        "#Declaro la última variable\n",
        "ultimaVariable = 2**(-1)\n",
        "#Muestro el tipo de la variable\n",
        "print('La variable \\'ultimaVariable\\' es de tipo: ', type(otraVariable))\n",
        "##Escribo los resultados..\n",
        "print(\"\\n\\nvariable: \", variable)\n",
        "print('otraVariable: ',otraVariable)\n",
        "print('ultimaVariable: ',ultimaVariable)"
      ],
      "metadata": {
        "id": "zSG0AQZ-vj4u"
      },
      "execution_count": null,
      "outputs": []
    },
    {
      "cell_type": "markdown",
      "source": [
        "\n",
        "\n",
        "---\n",
        "\n"
      ],
      "metadata": {
        "id": "4QqqqlBKyU-3"
      }
    },
    {
      "cell_type": "markdown",
      "source": [
        "## Ejercicio 5:\n",
        "\n",
        "Crea un código que tome como parámetro una frase y sea capaz de contar el número de palabras que contiene. Haga un test con la frase: \"Me gusta estudiar python en la UNSAM\". \n",
        "\n",
        "Y si queremos contar los caracteres incluyendo los espacios. ¿Cómo seria?\n",
        "\n",
        "Prueba con otras frases, para eso podes usar la funcion de ingreso de valores por teclado. "
      ],
      "metadata": {
        "id": "ULtaznKKyV1n"
      }
    },
    {
      "cell_type": "code",
      "source": [
        "#Declaro la variable con el valor sugerido\n",
        "frase = 'Me gusta estudiar python en la UNSAM'\n",
        "#Muestro el contenido por pantalla\n",
        "print(frase)\n",
        "#Para contar las palabras lo que se puede hacer es usar la función split que \n",
        "#devuelve una lista con las subcadenas separadas por el delimitador. En este\n",
        "#caso, lo que separa cada palabra es el espacio en blanco, por tal motivo, uso\n",
        "# \" \" como delimitador. De esta manera se obtiene una lista con las palabras que\n",
        "#componen la frase. Por último, con la función len, se obtiene la cantidad de\n",
        "#elementos de la lista, que no es otra cosa que la cantidad de palabras\n",
        "print('Cantidad de palabras: ',len(frase.split(\" \")))\n",
        "#Luego, para contar los caracteres incluyendo los espacios en blanco, se puede\n",
        "#hacer directamente\n",
        "print('Cantidad de caracteres: ', len(frase))"
      ],
      "metadata": {
        "id": "ZruZrJdpygpa"
      },
      "execution_count": null,
      "outputs": []
    },
    {
      "cell_type": "markdown",
      "source": [
        "\n",
        "\n",
        "---\n",
        "\n"
      ],
      "metadata": {
        "id": "t8v3z_y32u1Z"
      }
    },
    {
      "cell_type": "markdown",
      "source": [
        "## Ejercicio 6:\n",
        "\n",
        "Escriba un programa que reciba dos números y los compare dando como resultado verdadero o falso ante la frase: El primer número es menor que el segundo.\n",
        "\n",
        "###Comentario:\n",
        "El ejercicio no está contemplando la igualdad"
      ],
      "metadata": {
        "id": "fwLo9wx82vo_"
      }
    },
    {
      "cell_type": "code",
      "source": [
        "#Primero, obtengo los valores por parte del usuario. De nuevo, casteo a int\n",
        "#porque input toma string\n",
        "numero1 = int(input('Por favor, ingrese un número entero: '));\n",
        "numero2 = int(input('Ingresa otro número entero: '));\n",
        "#Ahora,muestro el resultado\n",
        "print('¿El primer número es menor que el segundo?:',numero1<numero2)"
      ],
      "metadata": {
        "id": "Zd7j77xX21zL"
      },
      "execution_count": null,
      "outputs": []
    },
    {
      "cell_type": "markdown",
      "source": [
        "\n",
        "\n",
        "---\n",
        "\n"
      ],
      "metadata": {
        "id": "JIRhsTyK5s-a"
      }
    },
    {
      "cell_type": "markdown",
      "source": [
        "## Ejercicio 7:\n",
        "\n",
        "Cree un programa en python que calcule el promedio entre 2 notas.\n",
        "\n",
        "###Comentarios:\n",
        "Podría haber calculado el promedio y guardarlo en una variable para luego mostrarlo por pantalla, pero para este caso no lo considero necesario porque no lo voy a usar."
      ],
      "metadata": {
        "id": "Tt3xJdNE5uBC"
      }
    },
    {
      "cell_type": "code",
      "source": [
        "#Le pido al usuario que ingrese dos valores flotantes y los guardo en las variables\n",
        "nota1 = float(input('Ingrese una nota: '))\n",
        "nota2 = float(input('Ingrese otra nota: '))\n",
        "CANTIDAD_DE_NOTAS = 2 #Uso una constante que en este caso vale 2 por la canitdad de notas que pidieron\n",
        "#Calculo el promedio y lo muestro por pantalla\n",
        "print('\\nEl promedio es: ',(nota1+nota2)/CANTIDAD_DE_NOTAS)"
      ],
      "metadata": {
        "id": "GmuBiHtI52P3"
      },
      "execution_count": null,
      "outputs": []
    },
    {
      "cell_type": "markdown",
      "source": [
        "\n",
        "\n",
        "---\n",
        "\n"
      ],
      "metadata": {
        "id": "fnVzsKe-6gER"
      }
    },
    {
      "cell_type": "markdown",
      "source": [
        "## Ejercicio 8:\n",
        " \n",
        "Escriba un programa que se utilizará para decidir si un alumno ha aprobado o no. Para ser aprobado, todos los promedios del alumno deben ser superiores a 7. Considere que el alumno cursa\n",
        "sólo tres asignaturas, y que la calificación de cada una de ellas se almacena en las siguientes variables: materia1, materia2 y materia3.\n",
        "\n",
        "###Comentarios:\n",
        "En este caso usé una variable para calcular el promedio solo para no \"ensuciar\" el código cuando uso el operador ternario. Pero, tranquilamente podría haber hecho:<br>\n",
        "\n",
        "\n",
        "```\n",
        "'Alumnx aprobado' if (materia1 + materia2 + materia3)/CANTIDAD_MATERIAS >= APROBACION else 'Alumnx no aprobado'\n",
        "```\n",
        "\n"
      ],
      "metadata": {
        "id": "EAvuvde-6hOg"
      }
    },
    {
      "cell_type": "code",
      "source": [
        "#Declaro una constante con la cantidad de materias. En este caso son 3\n",
        "CANTIDAD_MATERIAS = 3\n",
        "#Declaro otra constante para establecer el límite de aprobación.\n",
        "APROBACION = 7\n",
        "#Pido al usuario que ingrese las notas y las almaceno en las variables\n",
        "materia1 = float(input('Ingrese la primer nota: '))\n",
        "materia2 = float(input('Ingrese la segunda nota: '))\n",
        "materia3 = float(input('Ingrese la tercer nota: '))\n",
        "\n",
        "#Calculo el promedio\n",
        "promedio = (materia1+materia2+materia3)/CANTIDAD_MATERIAS\n",
        "#Determino si alumx aprobó o no usando el operador ternario\n",
        "print('\\n¿alumnx aprobado?: ', 'Alumnx aprobado' if promedio >= APROBACION else 'Alumnx no aprobado')"
      ],
      "metadata": {
        "id": "eKM8VzQV64dg"
      },
      "execution_count": null,
      "outputs": []
    },
    {
      "cell_type": "markdown",
      "source": [
        "\n",
        "\n",
        "---\n",
        "\n"
      ],
      "metadata": {
        "id": "hQn_tRjC9EjV"
      }
    },
    {
      "cell_type": "markdown",
      "source": [
        "## Ejercicio 9:\n",
        "\n",
        "Escriba un programa que lea input del usuario: cantidad de días, horas, minutos y segundos y que en base a esos datos, calcule el total en segundos."
      ],
      "metadata": {
        "id": "zNS2j1RR9FTc"
      }
    },
    {
      "cell_type": "code",
      "source": [
        "#Vamos a pedirle al usuario lo que indica el ejercicio\n",
        "cantidadDias = int(input('Ingrese cantidad de días: '))\n",
        "cantidadHoras = int(input('Ingrese cantidad de horas: '))\n",
        "cantidadMinutos = int(input('Ingrese cantidad de minutos: '))\n",
        "cantidadSegundos = int(input('Ingrese cantidad de segundos: '))\n",
        "\n",
        "#Calculo los segundos para los días, horas y minutos\n",
        "diasSegundos = cantidadDias*24*60*60\n",
        "horasSegundos = cantidadHoras*60*60\n",
        "minutosSegundos = cantidadMinutos*60\n",
        "\n",
        "#Luego, el total de segundos será\n",
        "print(f'\\nLa cantidad de segundos es {cantidadSegundos + diasSegundos + horasSegundos + minutosSegundos}')"
      ],
      "metadata": {
        "id": "G02UFrx99REQ"
      },
      "execution_count": null,
      "outputs": []
    },
    {
      "cell_type": "markdown",
      "source": [
        "\n",
        "\n",
        "---\n",
        "\n"
      ],
      "metadata": {
        "id": "dLJaXGWw9RfD"
      }
    },
    {
      "cell_type": "markdown",
      "source": [
        "# Ejercicio 10:\n",
        "\n",
        "Haga un programa que pregunte por el precio de una mercaderia y el porcentaje de descuento de la misma y que calcule el importe del descuento y el precio a pagar.\n",
        "###Comentarios:\n",
        "En este caso, el importe de descuento lo voy a usar dos veces:\n",
        "  <ol>\n",
        "    <li>Para calcular el importe final</li>\n",
        "    <li>Para mostrar el importe de descuento realizado</li>\n",
        "  </ol>\n",
        "Por tal motivo, uso la variable **importeDescuento**"
      ],
      "metadata": {
        "id": "kShM4VwP9UML"
      }
    },
    {
      "cell_type": "code",
      "source": [
        "#Pregunto por el precio y lo guardo en la variable\n",
        "precio = float(input('Ingrese el precio de la mercadería: '))\n",
        "#Pregunto por el porcentaje de descuento\n",
        "descuento = float(input('Ingrese el porcentaje de descuento: '))\n",
        "\n",
        "importeDescuento = (precio*descuento)/100\n",
        "\n",
        "print('\\nEl importe a pagar por la mercadería es: ', precio-importeDescuento)\n",
        "print('El descuento fue de: ',importeDescuento)"
      ],
      "metadata": {
        "id": "iD4YwaU59Z0U"
      },
      "execution_count": null,
      "outputs": []
    },
    {
      "cell_type": "markdown",
      "source": [
        "\n",
        "\n",
        "---\n",
        "\n"
      ],
      "metadata": {
        "id": "zfOv6b-a-lKL"
      }
    },
    {
      "cell_type": "markdown",
      "source": [
        "## Ejercicio 11:\n",
        "\n",
        "El alquiler de un auto cuesta `$3000` por día y `$220` por cada kilometro recorrido. Escriba un programa que calcule el valor a pagar dependiendo del número de días alquilado y de km total recorridos. \n",
        "\n",
        "Verifique su programa calculando el importe a pagar por un alquiler de 10 días y 400 kilometros recorridos en esos 10 días. Pruebe otros ejemplos. "
      ],
      "metadata": {
        "id": "w_mYCc8Z-mBh"
      }
    },
    {
      "cell_type": "code",
      "source": [
        "#Declaro las constantes para establecer los precios del alquiler por día y km recorrido\n",
        "PRECIO_ALQUILER_POR_DIA = 3000 #En pesos argentinos\n",
        "PRECIO_KILOMETRO_RECORRIDO = 220 #En pesos argentinos\n",
        "\n",
        "#Ahora le pido al usuario la cantidad de días y los kilometros recorridos para calcular\n",
        "#el valor final\n",
        "dias = int(input('Ingrese cantidad de días: '))\n",
        "kmRecorridos = float(input('Ingrese cantidad de kilómetros recorridos: '))\n",
        "print(f'\\nImporte a pagar $: {dias*PRECIO_ALQUILER_POR_DIA + kmRecorridos*PRECIO_KILOMETRO_RECORRIDO}')"
      ],
      "metadata": {
        "id": "jVRFEZyK-riB"
      },
      "execution_count": null,
      "outputs": []
    },
    {
      "cell_type": "markdown",
      "source": [
        "\n",
        "\n",
        "---\n",
        "\n"
      ],
      "metadata": {
        "id": "DsREQ5cQ-r6x"
      }
    },
    {
      "cell_type": "markdown",
      "source": [
        "## Ejercicio 12:\n",
        "\n",
        "Crea un programa que calcule el área de un rectángulo."
      ],
      "metadata": {
        "id": "D1tsMh4x-uEB"
      }
    },
    {
      "cell_type": "code",
      "source": [
        "#Le voy a pedir al usuario que ingrese la base y la altura (en centímetros)\n",
        "base = float(input('Ingrese la base del rectángulo (en cm): '))\n",
        "altura = float(input('Ingrese la altura del rectángulo (en cm): '))\n",
        "\n",
        "#Ahora calculo el área y la muestro\n",
        "print(f'El área del rectángulo con base de {base} cm y alura de {altura} cm es: {base*altura} cm2')"
      ],
      "metadata": {
        "id": "q5usXgUM-xMx"
      },
      "execution_count": null,
      "outputs": []
    }
  ]
}