{
  "nbformat": 4,
  "nbformat_minor": 0,
  "metadata": {
    "colab": {
      "provenance": [],
      "authorship_tag": "ABX9TyP9JJHq04pUlsqtFJd02e8Y"
    },
    "kernelspec": {
      "name": "python3",
      "display_name": "Python 3"
    },
    "language_info": {
      "name": "python"
    }
  },
  "cells": [
    {
      "cell_type": "markdown",
      "source": [
        "#**Ejercicio:**\n",
        "> Una mañana se pone un billete en la vereda al lado del obelisco porteño. A partir de ahí, cada día se duplica la cantidad de billetes que hay, apilándolos prolijamente. ¿Cuántos días pasan antes de que la pila de billetes sea más alta que el obelisco?\n",
        "\n",
        "Datos:\n",
        "\n",
        "\n",
        "*   grosor del billete = 11 cm\n",
        "*   altura del obelisco = 67.5 m\n",
        "\n",
        "###Comentarios:\n",
        ">Para este tipo de ejercicios, es importante determinar bien las variables que deben ser actualizadas y cómo es su correcta inicialización\n",
        "\n",
        ">Como nos preguntan por la cantidad de días, allí ya tenemos una pista de que vamos a necesitar un ciclo desde donde se irá incrementando una variable que indique la cantidad de días.\n",
        "\n",
        ">La condición de salida del ciclo será que la altura de la pila de billetes no supere a la alura del obelisco (dada como dato de entrada)\n",
        "\n",
        ">También, es importante tener en cuenta que la pila de billetes no solo depende de la cantidad que se vayan apilando, sino que también se debe tener en cuenta el espesor del billete (por algo es dato de entrada ;) )"
      ],
      "metadata": {
        "id": "jmj08hXEl6_f"
      }
    },
    {
      "cell_type": "code",
      "source": [
        "#Datos iniciales\n",
        "grosor_billete = 0.11 / 1000 #Lo paso a metros para trabajar todo en una misma unidad\n",
        "altura_obelisco = 67.5\n",
        "cantidad_dias = 1\n",
        "cantidad_billetes = 1\n",
        "pila_billetes = grosor_billete*cantidad_billetes #Altura inicial de billetes\n",
        "\n",
        "#Mientras que la altura de los billetes apilados no supere a la altura\n",
        "#del obelisco...\n",
        "while pila_billetes <= altura_obelisco: \n",
        "  #Incremento la cantidad de días que van pasando\n",
        "  cantidad_dias = cantidad_dias + 1\n",
        "  #Cada día, se duplica la cantidad de billetes que se apilan \n",
        "  cantidad_billetes = cantidad_billetes * 2 \n",
        "  #Actualizo la altura de billetes\n",
        "  pila_billetes = grosor_billete*cantidad_billetes\n",
        "\n",
        "#Muestro por pantalla los resultados finales...\n",
        "print('Cantidad de días: ',cantidad_dias)\n",
        "print('Cantidad de billetes: ',cantidad_billetes)\n",
        "print('Altura alcanzada: ',pila_billetes)"
      ],
      "metadata": {
        "id": "Zb7JqNXGmQd_"
      },
      "execution_count": null,
      "outputs": []
    }
  ]
}
