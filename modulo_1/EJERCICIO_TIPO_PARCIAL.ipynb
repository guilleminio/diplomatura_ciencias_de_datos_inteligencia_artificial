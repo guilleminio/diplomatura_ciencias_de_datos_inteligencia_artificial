{
  "nbformat": 4,
  "nbformat_minor": 0,
  "metadata": {
    "colab": {
      "provenance": [],
      "authorship_tag": "ABX9TyM8MrKmavv1OWoWUr4xdcsr",
      "include_colab_link": false
    },
    "kernelspec": {
      "name": "python3",
      "display_name": "Python 3"
    },
    "language_info": {
      "name": "python"
    }
  },
  "cells": [
    {
      "cell_type": "markdown",
      "metadata": {
        "id": "view-in-github",
        "colab_type": "text"
      },
      "source": [
        "<a href=\"https://colab.research.google.com/github/guilleminio/diplomatura_ciencias_de_datos_inteligencia_artificial/blob/main/EJERCICIO_TIPO_PARCIAL.ipynb\" target=\"_parent\"><img src=\"https://colab.research.google.com/assets/colab-badge.svg\" alt=\"Open In Colab\"/></a>"
      ]
    },
    {
      "cell_type": "markdown",
      "source": [
        "#Ejercicio:\n",
        "\n",
        "Considera los siguientes comandos de Python ejecutados de la siguiente manera:\n",
        "\n",
        "> x = dict(zip(('a','b','c','d','e'),(1,2,3,4,5)))\n",
        "\n",
        "> y = sorted([x[s] for s in x])\n",
        "\n",
        "¿Cuá es el valor de **y**?\n",
        "\n",
        "##Respuesta:\n",
        ">En la primera línea de código, con la función zip está asociando las dos tuplas y luego lo convierte en un diccionario cuyas claves son los elementos de la primer tupla y los valores (de esas claves) son los elementos de la segunda tupla.\n",
        "\n",
        "\n",
        "```\n",
        "x = {'a':1,'b':2,'c':3,'d':4,'e':5}\n",
        "```\n",
        "\n",
        ">En la sgunda línea de código, genera una nueva lista ordenada y la almacena en la variable '**y**'. Pero esa lista ordenada se obtiene a partir de la comprensión del diccionario x recorriendo las claves y almacenando (en la nueva lista), el valor correspondiente a esa clave.\n",
        "\n",
        "\n",
        "\n",
        "*   **x** es el diccionario\n",
        "*   **s** es la clave\n",
        "*   **x[s]** es el valor de esa clave\n",
        "\n",
        "Por lo tanto, la variable 'y' es:\n",
        "\n",
        "```\n",
        "y = [1,2,3,4,5]\n",
        "```\n",
        "\n",
        "####**Nota:** justo para este caso, el sorted no tiene sentido porque en si el diccionario ya estaba ordenado. Lo hacen para confundirte más."
      ],
      "metadata": {
        "id": "540HDds2TVXE"
      }
    },
    {
      "cell_type": "code",
      "source": [
        "x = dict(zip(('a','b','c','d','e'),(1,2,3,4,5)))\n",
        "y = [x[s] for s in x]\n",
        "z = sorted(x[s] for s in x)\n",
        "print(y)\n",
        "print(z)"
      ],
      "metadata": {
        "colab": {
          "base_uri": "https://localhost:8080/"
        },
        "id": "irHtqvF1VYPo",
        "outputId": "156e666a-9869-41e9-cae3-0c76f3dc0879"
      },
      "execution_count": 11,
      "outputs": [
        {
          "output_type": "stream",
          "name": "stdout",
          "text": [
            "[1, 2, 3, 4, 5]\n",
            "[1, 2, 3, 4, 5]\n"
          ]
        }
      ]
    }
  ]
}
