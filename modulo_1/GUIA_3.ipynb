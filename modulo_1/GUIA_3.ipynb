{
  "nbformat": 4,
  "nbformat_minor": 0,
  "metadata": {
    "colab": {
      "provenance": [],
      "authorship_tag": "ABX9TyMONGRuBoplcdxMUJ3kS2Xa"
    },
    "kernelspec": {
      "name": "python3",
      "display_name": "Python 3"
    },
    "language_info": {
      "name": "python"
    }
  },
  "cells": [
    {
      "cell_type": "markdown",
      "source": [
        "**RESOLUCIÓN DE EJERCICIOS - GUÍA 3**<br>\n",
        "**AUTOR:** Miño, Guille<br>\n",
        "**FECHA:** Marzo 2023\n",
        "\n",
        "\n",
        "---"
      ],
      "metadata": {
        "id": "cadLB4gZBlo2"
      }
    },
    {
      "cell_type": "markdown",
      "source": [
        "# Ejercicio 1\n",
        "\n",
        "Escribe un programa que pida al usuario ingresar una lista de números separados por comas. Luego, crea una tupla con esos números y muestra por pantalla la tupla creada y la suma de sus elementos. Si la lista que ingresa el usuario tiene elementos erroneos, que el programa se frene y le avise al usario.\n",
        "\n",
        "*Pista: Para que sum() funcione todos los elementos del contenedor tiene que ser int o float.*"
      ],
      "metadata": {
        "id": "wAYN4q4CBtZw"
      }
    },
    {
      "cell_type": "markdown",
      "source": [
        "**Primero:** le pido al usuario que ingrese los valores"
      ],
      "metadata": {
        "id": "27QFQuxSEBBT"
      }
    },
    {
      "cell_type": "code",
      "source": [
        "lista_numeros = input('Ingresa números separados por comas: ').split(',')\n",
        "error_conversion = False\n",
        "indice = 0\n",
        "tamanio_lista = len(lista_numeros)"
      ],
      "metadata": {
        "id": "3-nf47-LBzFp"
      },
      "execution_count": null,
      "outputs": []
    },
    {
      "cell_type": "markdown",
      "source": [
        "**Segundo:** con un ciclo while, recorro la lista de valores ingresados.\n",
        "La condición de salida es: \"sobrepasó el límite de la lista\" o \"no pudo realizar la conversión del valor a un número\".  \n",
        "\n",
        "> \"Mientras no supere el tamaño de la lista y no exista error de conversión hacer\"\n",
        "\n",
        ">Dentro del ciclo, primero verifico si se trata de un valor entero (con el método isdigit()). Si no es un entero, tengo que revisar si se trata de un float. Para ello, buso si en la cadena existe un punto (con el método find('.'). Si hay un punto, entonces, separo la cadena en parte entera (lo que está a la izquierda del punto) y parte decimal (lo que está a la derecha del punto), usando slice. Luego, si esas partes son dígitos, entonces, se tiene un flotante (asumiento siempre que los float son de la forma 'numeros.numeros')"
      ],
      "metadata": {
        "id": "qkMQtvuPEHrD"
      }
    },
    {
      "cell_type": "code",
      "source": [
        "while indice < tamanio_lista and not error_conversion:\n",
        "  elemento = lista_numeros[indice]\n",
        "  if elemento.isdigit(): #el número es un entero\n",
        "    lista_numeros[indice] = int(lista_numeros[indice])\n",
        "    indice+=1\n",
        "  elif elemento.find('.') != -1:\n",
        "      punto = elemento.index('.')\n",
        "      parte_entera = elemento[ : punto]\n",
        "      parte_decimal = elemento[ punto +1 : ]\n",
        "      if parte_entera.isdigit() and parte_decimal.isdigit(): #el número es un float\n",
        "          lista_numeros[indice] = float(lista_numeros[indice])\n",
        "          indice+=1\n",
        "      else:\n",
        "          error_conversion = True\n",
        "  else:\n",
        "    error_conversion = True"
      ],
      "metadata": {
        "id": "YKzp2_7-Fnjp"
      },
      "execution_count": null,
      "outputs": []
    },
    {
      "cell_type": "markdown",
      "source": [
        "**Mejora del código**: para saber si el número es un float, se puede usar el método 'replace' de la siguiente manera:\n",
        "\n",
        "\n",
        "```\n",
        "# cadena.replace('.','',1)\n",
        "```\n",
        "La ídea es que reemplace (por única vez, por eso el 1), el primer punto que encuentre en la cadena por un espacio en blanco. De esa manera, si se resultara:\n",
        "\n",
        "> '13.5' --> cadena.replace('.','',1) = '135'\n",
        "\n",
        "> '13.4.5' --> cadena.replace('.','',1) = '134.5'\n",
        "\n",
        "Luego, con el método isdigit(), se verifica si se trata de un número o no.\n"
      ],
      "metadata": {
        "id": "U5P8el-kpiZ4"
      }
    },
    {
      "cell_type": "code",
      "source": [
        "while indice < tamanio_lista and not error_conversion:\n",
        "  elemento = lista_numeros[indice]\n",
        "  if elemento.isdigit(): #el número es un entero\n",
        "    lista_numeros[indice] = int(lista_numeros[indice])\n",
        "    indice+=1\n",
        "  elif elemento.replace('.','',1).isdigit(): #el número es un float\n",
        "      lista_numeros[indice] = float(lista_numeros[indice])\n",
        "      indice+=1\n",
        "  else:\n",
        "      error_conversion = True"
      ],
      "metadata": {
        "id": "MKczF5o0qiac"
      },
      "execution_count": null,
      "outputs": []
    },
    {
      "cell_type": "markdown",
      "source": [
        "**Por último,** escribo los resultados según corresponda"
      ],
      "metadata": {
        "id": "IXLtloV9FpTP"
      }
    },
    {
      "cell_type": "code",
      "source": [
        "print(lista_numeros)\n",
        "if ( not error_conversion):\n",
        "  tupla_numeros = ( numero for numero in lista_numeros)\n",
        "  print('La suma de su elementos es: ', sum(tupla_numeros))\n",
        "else:\n",
        "  print('Los valores ingresados no corresponden a números')"
      ],
      "metadata": {
        "id": "zP2Yzk_wFzaH"
      },
      "execution_count": null,
      "outputs": []
    },
    {
      "cell_type": "markdown",
      "source": [
        "Código completo"
      ],
      "metadata": {
        "id": "NVDouPBGnwx0"
      }
    },
    {
      "cell_type": "code",
      "source": [
        "lista_numeros = input('Ingresa números separados por comas: ').split(',')\n",
        "error_conversion = False\n",
        "indice = 0\n",
        "tamanio_lista = len(lista_numeros)\n",
        "\n",
        "while indice < tamanio_lista and not error_conversion:\n",
        "  elemento = lista_numeros[indice]\n",
        "  if elemento.isdigit(): #el número es un entero\n",
        "    lista_numeros[indice] = int(lista_numeros[indice])\n",
        "    indice+=1\n",
        "  elif elemento.replace('.','',1).isdigit(): #el número es un float\n",
        "    lista_numeros[indice] = float(lista_numeros[indice])\n",
        "    indice+=1\n",
        "  else:\n",
        "    error_conversion = True\n",
        "  '''\n",
        "  elif elemento.find('.') != -1:\n",
        "      punto = elemento.index('.')\n",
        "      parte_entera = elemento[ : punto]\n",
        "      parte_decimal = elemento[ punto +1 : ]\n",
        "      if parte_entera.isdigit() and parte_decimal.isdigit(): #el número es un float\n",
        "          lista_numeros[indice] = float(lista_numeros[indice])\n",
        "          indice+=1\n",
        "      else:\n",
        "          error_conversion = True\n",
        "  else:\n",
        "    error_conversion = True\n",
        "    '''\n",
        "\n",
        "print(lista_numeros)\n",
        "if ( not error_conversion):\n",
        "  tupla_numeros = ( numero for numero in lista_numeros)\n",
        "  print('La suma de su elementos es: ', sum(tupla_numeros))\n",
        "else:\n",
        "  print('Los valores ingresados no corresponden a números')"
      ],
      "metadata": {
        "id": "YmH2gAafnzoF"
      },
      "execution_count": null,
      "outputs": []
    },
    {
      "cell_type": "markdown",
      "source": [
        "\n",
        "\n",
        "---\n",
        "\n"
      ],
      "metadata": {
        "id": "8l03fa8AIHO4"
      }
    },
    {
      "cell_type": "markdown",
      "source": [
        "# Ejercicio 2\n",
        "\n",
        "Escribir un programa que pregunte al usuario su nombre, apellido, edad y teléfono, y que lo guarde en un diccionario. Después debe mostrar por pantalla el mensaje:  \\<nombre apellido\\> tiene \\<edad\\> años y su número de teléfono es \\<telefono\\>."
      ],
      "metadata": {
        "id": "Xh1Vgo1MIIUo"
      }
    },
    {
      "cell_type": "code",
      "source": [
        "nombre = input('Ingresa tu nombre: ')\n",
        "apellido = input('Ingresa tu apellido: ')\n",
        "edad = input('Ingresa tu edad: ')\n",
        "telefono = input('Ingresa tu número de teléfono: ')\n",
        "\n",
        "diccionario = {'nombre':nombre,'apellido': apellido,'edad':edad,'telefono':telefono}\n",
        "\n",
        "print(f'{diccionario[\"nombre\"]} {diccionario[\"apellido\"]} tiene {diccionario[\"edad\"]} años y su número de teléfono es {diccionario[\"telefono\"]}')"
      ],
      "metadata": {
        "id": "SUsZ9VY5IJ-C"
      },
      "execution_count": null,
      "outputs": []
    },
    {
      "cell_type": "markdown",
      "source": [
        "\n",
        "\n",
        "---\n",
        "\n"
      ],
      "metadata": {
        "id": "9-9epzjBKAYe"
      }
    },
    {
      "cell_type": "markdown",
      "source": [
        "# Ejercicio 3\n",
        "\n",
        "Escribir un programa que pregunte una fecha en formato dd/mm/aaaa y muestre por pantalla la misma fecha en formato dd de \\<mes\\> de aaaa donde \\<mes \\> es el nombre del mes. Para ello cree un diccionario que relacione el valor de mm con el nombre del mes."
      ],
      "metadata": {
        "id": "9dYZz8QdKBWE"
      }
    },
    {
      "cell_type": "code",
      "source": [
        "diccionario = {'01':'Enero',\n",
        "               '02':'Febrero',\n",
        "               '03':'Marzo',\n",
        "               '04':'Abril',\n",
        "               '05':'Mayo',\n",
        "               '06':'Junio',\n",
        "               '07':'Julio',\n",
        "               '08':'Agosto',\n",
        "               '09':'Septiembre',\n",
        "               '10':'Octubre',\n",
        "               '11':'Noviembre',\n",
        "               '12':'Diciembre'}\n",
        "\n",
        "fecha = input('Por favor, ingrese una fecha con formato dd/mm/aaaa').split('/')\n",
        "print(f'Fecha ingresada: {fecha[0]} de {diccionario[fecha[1]]} de {fecha[-1]}')"
      ],
      "metadata": {
        "id": "reI7IYweKCsf",
        "colab": {
          "base_uri": "https://localhost:8080/"
        },
        "outputId": "06e5f214-e62e-4893-a38b-365deb3579a0"
      },
      "execution_count": 9,
      "outputs": [
        {
          "output_type": "stream",
          "name": "stdout",
          "text": [
            "Por favor, ingrese una fecha con formato dd/mm/aaaa20/05/2023\n",
            "Fecha ingresada: 20 de Mayo de 2023\n"
          ]
        }
      ]
    },
    {
      "cell_type": "markdown",
      "source": [
        "Usando **desempaquetamiento**, resulta"
      ],
      "metadata": {
        "id": "NQzkk0mosZH5"
      }
    },
    {
      "cell_type": "code",
      "source": [
        "dd,mm,aa = input('Por favor, ingrese una fecha con formato dd/mm/aaaa: ').split('/')\n",
        "print(f'Fecha ingresada: {dd} de {diccionario[mm]} de {aa}')"
      ],
      "metadata": {
        "id": "aDg51YDrsiDw"
      },
      "execution_count": null,
      "outputs": []
    },
    {
      "cell_type": "markdown",
      "source": [
        "\n",
        "\n",
        "---\n",
        "\n"
      ],
      "metadata": {
        "id": "ozmW3FZkMBDi"
      }
    },
    {
      "cell_type": "markdown",
      "source": [
        "# Ejercicio 4\n",
        "\n",
        "Escribe un programa que pida al usuario que ingrese dos listas de números enteros separados por espacios. Luego, crea dos conjuntos con los elementos de cada lista y muestra por pantalla los siguientes conjuntos:\n",
        "\n",
        "    1. La unión de los dos conjuntos\n",
        "    2. La intersección de los dos conjuntos\n",
        "    3. Los elementos que están en el primer conjunto pero no en el segundo\n",
        "    4. Los elementos que están en el segundo conjunto pero no en el primero"
      ],
      "metadata": {
        "id": "fD66Ui7cMB55"
      }
    },
    {
      "cell_type": "code",
      "source": [
        "lista1 = input('Ingrese números separados por espacios: ').split(' ')\n",
        "lista2 = input('Ingrese otros números separados por espacios: ').split(' ')\n",
        "\n",
        "conjunto1 = set(lista1)\n",
        "conjunto2 = set(lista2)\n",
        "\n",
        "print('Union de los conjuntos: ', conjunto1 | conjunto2 )\n",
        "print('Intersección de los conjuntos: ',conjunto1 & conjunto2)\n",
        "print('Diferencia primer conjuneto: ', conjunto1 - conjunto2)\n",
        "print('Diferencia segundo conjuneto: ', conjunto2 - conjunto1)"
      ],
      "metadata": {
        "id": "OFspdQWlMFpC"
      },
      "execution_count": null,
      "outputs": []
    },
    {
      "cell_type": "markdown",
      "source": [
        "\n",
        "\n",
        "---\n",
        "\n"
      ],
      "metadata": {
        "id": "0gCu35s-NJk_"
      }
    },
    {
      "cell_type": "markdown",
      "source": [
        "# Ejercicio 5\n",
        "\n",
        "Dadas las listas de nombres y edades:\n",
        "nombre=[Juan, Ana, Marcela, Claudio, Nicolás, Cecilia, Tomas, Pedro]\n",
        "edades=[25, 15, 13, 21, 45, 32, 17, 33]\n",
        "1. Crear una lista de tuplas que contenga los nombres y las edades de las personas mayores de 18 años. Atención, usar la función `zip()`.\n",
        "2. Ordenar la lista resultante de forma alfabética por el nombre de las personas."
      ],
      "metadata": {
        "id": "K8XWdC1JNKSf"
      }
    },
    {
      "cell_type": "code",
      "source": [
        "nombres = ['Juan', 'Ana', 'Marcela', 'Claudio', 'Nicolás', 'Cecilia', 'Tomas', 'Pedro']\n",
        "edades = [25, 15, 13, 21, 45, 32, 17, 33]\n",
        "\n",
        "# Inciso 1)\n",
        "mayores = [mayor for mayor in zip(nombres,edades) if mayor[1] > 18]\n",
        "print(mayores)\n",
        "\n",
        "# Ordenamiento 'in-place'\n",
        "mayores.sort()\n",
        "print(mayores)"
      ],
      "metadata": {
        "id": "V_q9FjHDNPbm"
      },
      "execution_count": null,
      "outputs": []
    },
    {
      "cell_type": "markdown",
      "source": [
        "\n",
        "\n",
        "---\n",
        "\n"
      ],
      "metadata": {
        "id": "s4MqGNXGQX_K"
      }
    },
    {
      "cell_type": "markdown",
      "source": [
        "#Ejercicio 6\n",
        "\n",
        "Usando la herramienta de compresión de listas y diccionarios aprendidas en clases crear:\n",
        "\n",
        "1. Crea una lista de los cuadrados de los números del 1 al 10 utilizando una comprensión de listas.\n",
        "2. Crea una lista de los números pares del 1 al 20 utilizando una comprensión de listas.\n",
        "3. Crea un diccionario que asocie ciudades con sus temperaturas actuales de las siguiente listas.\n",
        "ciudades = [\"Buenos Aires\", \"Madrid\", \"Roma\", \"París\"]\n",
        "temperaturas = [28, 16, 21, 19]"
      ],
      "metadata": {
        "id": "hNXpVYhGQZGh"
      }
    },
    {
      "cell_type": "code",
      "source": [
        "listas_cuadrados = [ numero**2 for numero in range(1,11)]\n",
        "listas_cuadrados"
      ],
      "metadata": {
        "id": "HHOuFpVsQeAo"
      },
      "execution_count": null,
      "outputs": []
    },
    {
      "cell_type": "code",
      "source": [
        "lista_pares = [ numero_par for numero_par in range(1,21) if numero_par%2==0]\n",
        "lista_pares"
      ],
      "metadata": {
        "id": "T0chGT3YQuk4"
      },
      "execution_count": null,
      "outputs": []
    },
    {
      "cell_type": "code",
      "source": [
        "ciudades = [\"Buenos Aires\", \"Madrid\", \"Roma\", \"París\"] \n",
        "temperaturas = [28, 16, 21, 19]\n",
        "\n",
        "diccionario = dict(zip(ciudades,temperaturas))\n",
        "\n",
        "diccionario"
      ],
      "metadata": {
        "id": "jDW1LITUQ_uX"
      },
      "execution_count": null,
      "outputs": []
    },
    {
      "cell_type": "code",
      "source": [
        "#Creando el diccionario de ciudades y temperaturas con comprensión\n",
        "diccionario = { ciudad : temperatura for ciudad,temperatura in zip(ciudades,temperaturas)}\n",
        "\n",
        "diccionario"
      ],
      "metadata": {
        "id": "4198S9Fvt3ed"
      },
      "execution_count": null,
      "outputs": []
    },
    {
      "cell_type": "markdown",
      "source": [
        "\n",
        "\n",
        "---\n",
        "\n"
      ],
      "metadata": {
        "id": "qJww3_OcRPo2"
      }
    },
    {
      "cell_type": "markdown",
      "source": [
        "# Ejercicio 7\n",
        "\n",
        "Escribe un programa que lea una lista de palabras separadas por espacios y cree una tupla con ellas. Luego, muestra por pantalla la tupla creada y la cantidad de veces que aparece la letra más repetida en todas las palabras.\n"
      ],
      "metadata": {
        "id": "ASqdU1mURQdm"
      }
    },
    {
      "cell_type": "markdown",
      "source": [
        "Divide y triunfarás...\n",
        "Vayamos por partes...\n",
        "\n",
        ">**Primero**, voy a pedir el ingreso de las palabras y almacenarlas en una tupla"
      ],
      "metadata": {
        "id": "iHYRAwiVHUxi"
      }
    },
    {
      "cell_type": "code",
      "source": [
        "tupla_palabras = tuple(input('Ingrese palabras separadas por esapcios: ').split(' '))\n",
        "print(tupla_palabras)"
      ],
      "metadata": {
        "id": "i24UhDlXHnmK"
      },
      "execution_count": null,
      "outputs": []
    },
    {
      "cell_type": "markdown",
      "source": [
        "> **Segundo**, recorro la tupla y por cada palabra de la tupla, voy determinando la frecuencia de cada letra. Para ello, uso un diccionario de la forma:\n",
        "\n",
        "\n",
        "*   Clave --> letra de la palabra\n",
        "*   Valor --> cantidad de veces que se repite la letra (en esa palabra)\n",
        "\n"
      ],
      "metadata": {
        "id": "uuAmdMqDH7Se"
      }
    },
    {
      "cell_type": "code",
      "source": [
        "frecuencia_letra  = {}\n",
        "frecuencia_maxima = {}\n",
        "for palabra in tupla_palabras: #Recorro la tupla de palabras\n",
        "  for letra in palabra: #Recorro las letras de esa palabra\n",
        "    if letra not in frecuencia_letra:\n",
        "      frecuencia_letra[letra]=1 #La letra aparece por primera vez\n",
        "    else:\n",
        "      frecuencia_letra[letra] += 1 #Incremento la cantidad de veces que se repite esa letra\n",
        "\n",
        "print(frecuencia_letra)"
      ],
      "metadata": {
        "id": "zAbr4C1zRXRv"
      },
      "execution_count": null,
      "outputs": []
    },
    {
      "cell_type": "markdown",
      "source": [
        "> **Tercero**, quiero saber, de todas las frecuencias registradas, cuál es la mayor y a qué letra corresponde.\n",
        "\n",
        "**¡Cuidado!**: pueden existir letras que tengan la misma cantidad de repeticiones y, a su vez, esa cantidad de repeticiones sean las máximas.  \n",
        "\n",
        "Por ejemplo, en la siguiente lista de palabras\n",
        "\n",
        "`[ papa casa pelota pulpo ]`\n",
        "\n",
        "resulta que las letras 'a' y 'p' son las que presentan mayores frecuencias (ambas con 5 repeticiones)"
      ],
      "metadata": {
        "id": "Kw9T9NWMUNOv"
      }
    },
    {
      "cell_type": "code",
      "source": [
        "frecuencias_maximas = {}\n",
        "maxima_frecuencia = max(frecuencia_letra.values())\n",
        "for letra,frecuencia in frecuencia_letra.items():\n",
        "  if frecuencia == maxima_frecuencia :\n",
        "    frecuencias_maximas[letra]  = frecuencia"
      ],
      "metadata": {
        "id": "qyapORd9Qb7S"
      },
      "execution_count": null,
      "outputs": []
    },
    {
      "cell_type": "markdown",
      "source": [
        "> **Cuarto**, y último, muestro el resultado final"
      ],
      "metadata": {
        "id": "IC9GBoCUJHVq"
      }
    },
    {
      "cell_type": "code",
      "source": [
        "print(frecuencias_maximas)"
      ],
      "metadata": {
        "id": "Uvkf4WdTJPJl"
      },
      "execution_count": null,
      "outputs": []
    },
    {
      "cell_type": "markdown",
      "source": [
        "\n",
        "\n",
        "---\n",
        "\n"
      ],
      "metadata": {
        "id": "V1A3Ypl_UZ8y"
      }
    },
    {
      "cell_type": "markdown",
      "source": [
        "# Ejercicio 8\n",
        "\n",
        "Imagina que eres el gerente de una tienda en línea y estás revisando tu base de datos de clientes. Descubres que algunos clientes se han registrado varias veces con la misma información de contacto, pero diferentes nombres de usuario. La lista con información de contacto que tenes es: \n",
        "\n",
        "```py\n",
        "clientes = [\n",
        "\n",
        "  (1, \"Ana\", \"García\", \"ana@example.com\", \"Calle Falsa 123\"), \n",
        "\n",
        "  (2, \"Pedro\", \"Martínez\", \"pedro@example.com\", \"Avenida Siempreviva 742\"),\n",
        "\n",
        "  (3, \"Luisa\", \"Fernández\", \"luisa@example.com\", \"Calle Falsa 123\"),\n",
        "\n",
        "  (4, \"Juan\", \"Pérez\", \"juan@example.com\", \"Calle Falsa 123\"), \n",
        "\n",
        "  (5, \"Ana\", \"García\", \"ana@example.com\", \"Calle Falsa 123\")\n",
        "  \n",
        "  ]\n",
        "```\n",
        "Donde el primer elemento de cada tupla es el numero de cliente, luego viene el nombre, apellido, email y dirección.\n",
        "\n",
        "Para simplificar tu base de datos, decides eliminar los registros duplicados y ordenar la lista de clientes alfabéticamente. Escribe un código que haga esto.\n",
        "\n",
        "##Comentarios:\n",
        ">Creo que el ejercicio no está bien explicado. En general, en una base de datos se define algún criterio para evitar los duplicados. En este caso, no queda bien en claro cuál, porque los usuarios pueden tener mismo nombre y apellido.\n",
        "\n",
        ">Para resolver el problema, utilicé como criterio, **que no se repita la dirección de correo electrónico**."
      ],
      "metadata": {
        "id": "Py89swv2Ualp"
      }
    },
    {
      "cell_type": "markdown",
      "source": [
        "**Primero:** cargo los clientes y los muestro"
      ],
      "metadata": {
        "id": "_y9iwxJh0gIv"
      }
    },
    {
      "cell_type": "code",
      "source": [
        "clientes = [ (1, \"Ana\", \"García\", \"ana@example.com\", \"Calle Falsa 123\"), \n",
        "            (2, \"Pedro\", \"Martínez\", \"pedro@example.com\", \"Avenida Siempreviva 742\"),\n",
        "            (3, \"Luisa\", \"Fernández\", \"luisa@example.com\", \"Calle Falsa 123\"),\n",
        "            (4, \"Juan\", \"Pérez\", \"juan@example.com\", \"Calle Falsa 123\"), \n",
        "            (5, \"Ana\", \"García\", \"ana@example.com\", \"Calle Falsa 123\")]\n",
        "\n",
        "print(clientes)"
      ],
      "metadata": {
        "id": "FKCMvHEZUd9b"
      },
      "execution_count": null,
      "outputs": []
    },
    {
      "cell_type": "markdown",
      "source": [
        "**Segundo:** por cada cliente, reviso si su correo electrónico se encuentra en algún registro posterior. En caso afirmativo, elimino el duplicado"
      ],
      "metadata": {
        "id": "AK0ROFuO0k5N"
      }
    },
    {
      "cell_type": "code",
      "source": [
        "for i in range(len(clientes)):\n",
        "   j = i+1\n",
        "   duplicado = False\n",
        "   #Para el cliente actual (clientes[i]), recorro los clientes\n",
        "   #siguientes hasta que llegue al final o hasta que encuentre\n",
        "   #un valor de correo electrónico duplicado\n",
        "   while ( j<len(clientes)) and not(duplicado):\n",
        "     if (clientes[i][3] == clientes[j][3]) :\n",
        "       duplicado = True\n",
        "     else:\n",
        "        j= j+1\n",
        "   if duplicado:\n",
        "    del clientes[j]"
      ],
      "metadata": {
        "id": "ASHPCYXl0mfw"
      },
      "execution_count": 56,
      "outputs": []
    },
    {
      "cell_type": "markdown",
      "source": [
        "**Tercero:** muestro el resultado final..."
      ],
      "metadata": {
        "id": "lWgWAA3P0oqe"
      }
    },
    {
      "cell_type": "code",
      "source": [
        "print('\\n',clientes)"
      ],
      "metadata": {
        "id": "I4wYPJ_30tDl"
      },
      "execution_count": null,
      "outputs": []
    },
    {
      "cell_type": "markdown",
      "source": [
        "**Nueva versión**: luego de consultar, aparentemente la idea es eliminar los clientes con información repetida, ya sea por el nombre,apellido,correo y/o dirección. Entonces...."
      ],
      "metadata": {
        "id": "u6NjDzIbu_8d"
      }
    },
    {
      "cell_type": "code",
      "source": [
        "clientes = [ (1, \"Ana\", \"García\", \"ana@example.com\", \"Calle Falsa 123\"), \n",
        "            (2, \"Pedro\", \"Martínez\", \"pedro@example.com\", \"Avenida Siempreviva 742\"),\n",
        "            (3, \"Luisa\", \"Fernández\", \"luisa@example.com\", \"Calle Falsa 123\"),\n",
        "            (4, \"Juan\", \"Pérez\", \"juan@example.com\", \"Calle Falsa 123\"), \n",
        "            (5, \"Ana\", \"García\", \"ana@example.com\", \"Calle Falsa 123\")]\n",
        "\n",
        "print(clientes)\n",
        "total_clientes = len(clientes)\n",
        "for id in range( total_clientes):\n",
        "  proximo_cliente = id+1\n",
        "  while proximo_cliente < total_clientes:\n",
        "    if ( clientes[id][1] == clientes[proximo_cliente][1]) and ( clientes[id][2] == clientes[proximo_cliente][2]) and ( clientes[id][3] == clientes[proximo_cliente][3]) and ( clientes[id][4] == clientes[proximo_cliente][4]):\n",
        "      del clientes[proximo_cliente]\n",
        "      total_clientes = len(clientes)\n",
        "    proximo_cliente+=1\n",
        "print(clientes)"
      ],
      "metadata": {
        "colab": {
          "base_uri": "https://localhost:8080/"
        },
        "id": "BNouO-wRvQ7a",
        "outputId": "ece525ff-4708-433c-c4e0-adccb95d3f6b"
      },
      "execution_count": 66,
      "outputs": [
        {
          "output_type": "stream",
          "name": "stdout",
          "text": [
            "[(1, 'Ana', 'García', 'ana@example.com', 'Calle Falsa 123'), (2, 'Pedro', 'Martínez', 'pedro@example.com', 'Avenida Siempreviva 742'), (3, 'Luisa', 'Fernández', 'luisa@example.com', 'Calle Falsa 123'), (4, 'Juan', 'Pérez', 'juan@example.com', 'Calle Falsa 123'), (5, 'Ana', 'García', 'ana@example.com', 'Calle Falsa 123')]\n",
            "[(1, 'Ana', 'García', 'ana@example.com', 'Calle Falsa 123'), (2, 'Pedro', 'Martínez', 'pedro@example.com', 'Avenida Siempreviva 742'), (3, 'Luisa', 'Fernández', 'luisa@example.com', 'Calle Falsa 123'), (4, 'Juan', 'Pérez', 'juan@example.com', 'Calle Falsa 123')]\n"
          ]
        }
      ]
    },
    {
      "cell_type": "markdown",
      "source": [
        "(No uso ninguna lista auxiliar)"
      ],
      "metadata": {
        "id": "HyWUgJtzBB8V"
      }
    },
    {
      "cell_type": "markdown",
      "source": [
        "\n",
        "\n",
        "---\n",
        "\n"
      ],
      "metadata": {
        "id": "JhpnnZBJUeXZ"
      }
    },
    {
      "cell_type": "markdown",
      "source": [
        "# Ejercicio 9\n",
        "\n",
        "Escribe un programa que le permita al usuario registrar información sobre estudiantes en una escuela. Cada estudiante tendrá un nombre y apellido, una edad y una lista de materias en las que está inscrito.\n",
        "El programa deberá guardar toda la información, y además deberá indicar cuantas y cuales son las materias a las que hay por lo menos un estudiante inscrito. \n",
        "\n",
        "Probá para las siguientes informaciones\n",
        "\n",
        "- Nombre: Juan Perez,\n",
        "  Edad: 18,\n",
        "  Materias: Matemáticas, Física, Química\n",
        "- Nombre: Ana Suarez, \n",
        "  Edad: 17,\n",
        "  Materias: Lengua, Historia, Geografía\n",
        "- Nombre: Pedro Martinez,\n",
        "  Edad: 16,\n",
        "  Materias: Inglés, Música\n",
        "- Nombre: María Barbosa,\n",
        "  Edad: 18,\n",
        "  Materias: Matemáticas, Física, Dibujo\n",
        "- Nombre: Luis Sanchez, \n",
        "  Edad: 17,\n",
        "  Materias: Biología, Historia, Geografía\n"
      ],
      "metadata": {
        "id": "ZubSYOepUe5p"
      }
    },
    {
      "cell_type": "markdown",
      "source": [
        "**Primero:** genero un diccionario que almacene las materias\n",
        "\n",
        "\n",
        "*   clave --> número de materia (identificador)\n",
        "*   valor --> nombre de la materai"
      ],
      "metadata": {
        "id": "FpvnPga8wj87"
      }
    },
    {
      "cell_type": "code",
      "source": [
        "materias = {\n",
        "    1 : 'Algebra',\n",
        "    2 : 'Matemáticas',\n",
        "    3 : 'Lengua',\n",
        "    4 : 'Filosofía',\n",
        "    5 : 'Historia',\n",
        "    6 : 'Dibujo',\n",
        "    7 : 'Biología',\n",
        "    8 : 'Geografía',\n",
        "    9 : 'Física',\n",
        "    10 : 'Química',\n",
        "    11 : 'Inglés',\n",
        "    12 : 'Italiano',\n",
        "    13 : 'Música',\n",
        "    14 : 'Educación Física'\n",
        "}"
      ],
      "metadata": {
        "id": "k0tMna2_wX6Y"
      },
      "execution_count": 67,
      "outputs": []
    },
    {
      "cell_type": "markdown",
      "source": [
        "**Segundo:** genero la lista de alumnos, en donde cada alumno es una tupla de la forma (nombre_alumno, edad, lista_de_materias_inscripto)\n"
      ],
      "metadata": {
        "id": "4ymrfo7Mw3GK"
      }
    },
    {
      "cell_type": "code",
      "source": [
        "alumnos = [ ('Juan Perez',18,[2,9,10]),\n",
        "            ('Ana Suarez',17,[3,5,8]),\n",
        "            ('Pedro Martinez',16,[11,13]),\n",
        "            ('María Barbosa',18,[2,9,6]),\n",
        "            ('Luis Sanchez',17,[7,5,8])]"
      ],
      "metadata": {
        "id": "uSfsAOQ9xFfK"
      },
      "execution_count": 68,
      "outputs": []
    },
    {
      "cell_type": "markdown",
      "source": [
        "**Cuarto:** por cada número de materia (identificador), recorro la lista de alumnos y reviso si el identificador de la materia se encuentra en la lista de materias del alumno. En caso de haber alumno inscripto, agrego el identificador de materia a la lista de inscriptos_por_materias.  \n",
        "\n",
        "(Para evitar duplicados, reviso que el número no se encuentre agregado)\n",
        "\n",
        "**Correción**: para evitar los duplicados, directamente uso conjuntos (set).\n",
        "\n",
        "De la documentación de conjuntos:\n",
        "\n",
        "\n",
        "```\n",
        "add(...)\n",
        "     Add an element to a set.\n",
        "     **This has no effect if the element is already present.**\n",
        "```\n",
        "Por eso, puedo usar directamente:\n",
        "\n",
        "\n",
        "```\n",
        "if clave in alumno[2] :\n",
        "```\n",
        "en lugar de:\n",
        "\n",
        "\n",
        "```\n",
        "if clave in alumno[2] and clave not in inscriptos_por_materias:\n",
        "```\n",
        "\n",
        "\n",
        "\n",
        "\n",
        "\n"
      ],
      "metadata": {
        "id": "eL7x8lf2xKM7"
      }
    },
    {
      "cell_type": "code",
      "source": [
        "inscriptos_por_materias = set()\n",
        "\n",
        "for clave in materias.keys():\n",
        "  for alumno in alumnos:\n",
        "    #if clave in alumno[2] and clave not in inscriptos_por_materias:\n",
        "    if clave in alumno[2] :\n",
        "      inscriptos_por_materias.add(clave)"
      ],
      "metadata": {
        "id": "gsKaaqUQxMDa"
      },
      "execution_count": 70,
      "outputs": []
    },
    {
      "cell_type": "markdown",
      "source": [
        "**Quinto:** muestro los resultados finales"
      ],
      "metadata": {
        "id": "PQREfVBjxPTL"
      }
    },
    {
      "cell_type": "code",
      "source": [
        "print('Cantidad de materias en las que hay por lo menos un inscripto: ',len(inscriptos_por_materias))\n",
        "print('\\nListado de materias: ')\n",
        "for i in inscriptos_por_materias:\n",
        "  print(materias[i])"
      ],
      "metadata": {
        "id": "VzFFLy4uxTGx"
      },
      "execution_count": null,
      "outputs": []
    }
  ]
}
