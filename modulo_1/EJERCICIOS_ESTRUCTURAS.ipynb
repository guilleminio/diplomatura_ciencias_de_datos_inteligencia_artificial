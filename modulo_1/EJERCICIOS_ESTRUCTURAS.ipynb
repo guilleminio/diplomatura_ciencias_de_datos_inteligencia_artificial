{
  "nbformat": 4,
  "nbformat_minor": 0,
  "metadata": {
    "colab": {
      "provenance": [],
      "authorship_tag": "ABX9TyNNxVYu7pAUB5ZZsfH+dAsm"
    },
    "kernelspec": {
      "name": "python3",
      "display_name": "Python 3"
    },
    "language_info": {
      "name": "python"
    }
  },
  "cells": [
    {
      "cell_type": "markdown",
      "source": [
        "**Ejercicio 1**. Escribir un código que tome una lista de cadenas y que imprima la cadena más larga de la lista. Si fuese una tupla en lugar de una lista, ¿cambiaría algo?"
      ],
      "metadata": {
        "id": "usRmLffHR8Uq"
      }
    },
    {
      "cell_type": "code",
      "source": [
        "#Creo una lista de cadenas\n",
        "lista = ['casa','computadora','murciélago','guitarra','pelota','plato','silla']\n",
        "print('La cadena más larga de la lista es: ', max(lista,key=len))"
      ],
      "metadata": {
        "colab": {
          "base_uri": "https://localhost:8080/"
        },
        "id": "PcWudLLJSEJh",
        "outputId": "4fd42184-e603-4e2b-9157-7936b4911d10"
      },
      "execution_count": 1,
      "outputs": [
        {
          "output_type": "stream",
          "name": "stdout",
          "text": [
            "La cadena más larga de la lista es:  computadora\n"
          ]
        }
      ]
    },
    {
      "cell_type": "markdown",
      "source": [
        "Resolución no convincente:"
      ],
      "metadata": {
        "id": "u767dqLLSsuj"
      }
    },
    {
      "cell_type": "code",
      "source": [
        "#Supongo que el primer elemento de la lista tiene mayor longitud\n",
        "mayor_longitud = lista[0]\n",
        "#Ahora, recorro la lista y voy comparando..\n",
        "for cadena in lista:\n",
        "  if len(cadena) > len(mayor_longitud):\n",
        "    mayor_longitud = cadena\n",
        "\n",
        "print('La cadena más larga de la lista es: ', mayor_longitud)"
      ],
      "metadata": {
        "colab": {
          "base_uri": "https://localhost:8080/"
        },
        "id": "fOrIgvsUSwY_",
        "outputId": "4934d77e-f407-49d3-9a92-bce963cae706"
      },
      "execution_count": 5,
      "outputs": [
        {
          "output_type": "stream",
          "name": "stdout",
          "text": [
            "La cadena más larga de la lista es:  computadora\n"
          ]
        }
      ]
    },
    {
      "cell_type": "markdown",
      "source": [
        "Entiendo que la solución no convincente se realizó para poder explicar cómo recorrer las listas y trabajar con sus elementos. Pero no tiene sentido teniendo en cuenta la existencia de la función **MAX**"
      ],
      "metadata": {
        "id": "oVpTBvOgTV4g"
      }
    },
    {
      "cell_type": "markdown",
      "source": [
        "Si se tratase de una tupla...**no hay cambios** (en lo que refiere a la manera de procesarlo)"
      ],
      "metadata": {
        "id": "UCrJR8HrT0hO"
      }
    },
    {
      "cell_type": "code",
      "source": [
        "#Creo una tupla de cadenas\n",
        "tupla = ('casa','computadora','murciélago','guitarra','pelota','plato','silla')\n",
        "print('La cadena más larga de la tupla es: ', max(tupla,key=len))"
      ],
      "metadata": {
        "colab": {
          "base_uri": "https://localhost:8080/"
        },
        "id": "LLkvmUNNT4VQ",
        "outputId": "d82ed116-9522-4fc4-c37a-652a95ec9130"
      },
      "execution_count": 3,
      "outputs": [
        {
          "output_type": "stream",
          "name": "stdout",
          "text": [
            "La cadena más larga de la lista es:  computadora\n"
          ]
        }
      ]
    },
    {
      "cell_type": "markdown",
      "source": [
        "De nuevo, la solución no convincente..."
      ],
      "metadata": {
        "id": "6QA5AjQZUIgF"
      }
    },
    {
      "cell_type": "code",
      "source": [
        "mayor_longitud = cadena[0]\n",
        "for cadena in tupla:\n",
        "  if (len(cadena) > len(mayor_longitud)):\n",
        "    mayor_longitud=cadena\n",
        "print('La cadena más larga de la tupla es: ', mayor_longitud)"
      ],
      "metadata": {
        "colab": {
          "base_uri": "https://localhost:8080/"
        },
        "id": "e65xh7ShUMud",
        "outputId": "42191539-8582-4bbc-b650-47adc59a28c3"
      },
      "execution_count": 6,
      "outputs": [
        {
          "output_type": "stream",
          "name": "stdout",
          "text": [
            "La cadena más larga de la tupla es:  computadora\n"
          ]
        }
      ]
    },
    {
      "cell_type": "markdown",
      "source": [
        "\n",
        "\n",
        "---\n",
        "\n"
      ],
      "metadata": {
        "id": "9Y1f7pgDUnLt"
      }
    },
    {
      "cell_type": "markdown",
      "source": [
        "**Ejercicio 2**. Escribir un código que cree una lista de los números del 1 al 10  después la modifique de tal manera que los números impares sean reemplazados por el valor `None`. Si fuese una tupla en lugar de una lista, ¿cambiaría algo?\n"
      ],
      "metadata": {
        "id": "Lt_bPCyyUoBU"
      }
    },
    {
      "cell_type": "code",
      "source": [
        "#Genero la lista\n",
        "lista = []\n",
        "for i in range(0,10):\n",
        "  lista.append(i+1)\n",
        "\n",
        "print(lista)\n",
        "\n",
        "#Sin usar comprensión\n",
        "for i,numero in enumerate(lista):\n",
        "  if ( numero%2!=0):\n",
        "    lista[i] = None\n",
        "\n",
        "print(lista)"
      ],
      "metadata": {
        "colab": {
          "base_uri": "https://localhost:8080/"
        },
        "id": "YenD5I29UosF",
        "outputId": "2598e20d-80e5-4ac2-c914-60a5d2ee4f0d"
      },
      "execution_count": 7,
      "outputs": [
        {
          "output_type": "stream",
          "name": "stdout",
          "text": [
            "[1, 2, 3, 4, 5, 6, 7, 8, 9, 10]\n",
            "[None, 2, None, 4, None, 6, None, 8, None, 10]\n"
          ]
        }
      ]
    },
    {
      "cell_type": "markdown",
      "source": [
        "Si fuese una tupla...  \n",
        "Como las tuplas son **INMUTABLES**, no las puedo generar o añadir elementos mediante un loop. Lo que puedo hacer es crear una lista, trabajarla, y luego convertirla a tupla (ya con el resultado final)"
      ],
      "metadata": {
        "id": "lDimHAAdWh9a"
      }
    },
    {
      "cell_type": "code",
      "source": [
        "#Genero la tupla\n",
        "lista = []\n",
        "for i in range(0,10):\n",
        "  lista.append(i+1)\n",
        "\n",
        "#Sin usar comprensión\n",
        "for i,numero in enumerate(lista):\n",
        "  if ( numero%2!=0):\n",
        "    lista[i] = None\n",
        "\n",
        "tupla = tuple(lista)\n",
        "print(tupla)"
      ],
      "metadata": {
        "colab": {
          "base_uri": "https://localhost:8080/"
        },
        "id": "WZQtL7LDWkzx",
        "outputId": "8a5414f7-56e6-4e57-cacf-669c66c48adb"
      },
      "execution_count": 11,
      "outputs": [
        {
          "output_type": "stream",
          "name": "stdout",
          "text": [
            "(None, 2, None, 4, None, 6, None, 8, None, 10)\n"
          ]
        }
      ]
    },
    {
      "cell_type": "markdown",
      "source": [
        "\n",
        "\n",
        "---\n",
        "\n"
      ],
      "metadata": {
        "id": "x1KYDy80YtdO"
      }
    },
    {
      "cell_type": "markdown",
      "source": [
        "**Ejercicio 3**. Hacé un código que le pida al usuario tres números, que armé una tupla con ellos, y que imprima en pantalla el primer y último elemento de la tupla.\n"
      ],
      "metadata": {
        "id": "Uh02wg5tYuTF"
      }
    },
    {
      "cell_type": "code",
      "source": [
        "numero1 = int(input('Ingresa un número: '))\n",
        "numero2 = int(input('Ingresa otro número: '))\n",
        "numero3 = int(input('Ingresa un último número: '))\n",
        "\n",
        "tupla = (numero1,numero2,numero3)\n",
        "print('Primer elemento de la tupla: ',tupla[0])\n",
        "print('Ultimo elemento de la tupla: ',tupla[-1])"
      ],
      "metadata": {
        "colab": {
          "base_uri": "https://localhost:8080/"
        },
        "id": "ousjiYh4YvMt",
        "outputId": "b93987fd-ceeb-4731-cf87-666460eabb14"
      },
      "execution_count": 12,
      "outputs": [
        {
          "output_type": "stream",
          "name": "stdout",
          "text": [
            "Ingresa un número: 5\n",
            "Ingresa otro número: 10\n",
            "Ingresa un último número: 2\n",
            "Primer elemento de la tupla:  5\n",
            "Ultimo elemento de la tupla:  2\n"
          ]
        }
      ]
    },
    {
      "cell_type": "markdown",
      "source": [
        "\n",
        "\n",
        "---\n",
        "\n"
      ],
      "metadata": {
        "id": "4Vrzd9AxZlyE"
      }
    },
    {
      "cell_type": "markdown",
      "source": [
        "**Ejercicio 4**. Crea una tupla conteniendo los números del 1 al 10."
      ],
      "metadata": {
        "id": "aeYXn97YZm1s"
      }
    },
    {
      "cell_type": "code",
      "source": [
        "#Dos formas de hacerlo...\n",
        "#Hardcodeando código\n",
        "tupla = (1,2,3,4,5,6,7,8,9,10)\n",
        "print('Tupla: ',tupla)\n",
        "#De forma más elegante\n",
        "l = []\n",
        "for i in range(0,10):\n",
        "  l.append(i+1)\n",
        "\n",
        "tupla = tuple(l)\n",
        "print('Tupla: ',tupla)"
      ],
      "metadata": {
        "colab": {
          "base_uri": "https://localhost:8080/"
        },
        "id": "7xmiTvC_Zn0s",
        "outputId": "f636df57-4b88-4757-df11-8a38ac4c5831"
      },
      "execution_count": 13,
      "outputs": [
        {
          "output_type": "stream",
          "name": "stdout",
          "text": [
            "Tupla:  (1, 2, 3, 4, 5, 6, 7, 8, 9, 10)\n",
            "Tupla:  (1, 2, 3, 4, 5, 6, 7, 8, 9, 10)\n"
          ]
        }
      ]
    },
    {
      "cell_type": "markdown",
      "source": [
        "**Ejercicio 5**. A partir de dos listas, una de nombres y otra de fechas de cumpleaños, creá un diccionario donde las claves sean los nombres y los valores los cumpleaños. Usá tu diccionario para mostrar cuándo es el cumpleaños de Juan.\n",
        "\\\n",
        "*Extra:* hacelo usando `zip()`."
      ],
      "metadata": {
        "id": "c6XoxUiBaNjT"
      }
    },
    {
      "cell_type": "code",
      "source": [
        "nombres = ['Pablo','Pedro','Luis','Juan']\n",
        "cumpleanios = ['10/4','2/2','3/7','29/2']\n",
        "\n",
        "diccionario = dict(zip(nombres,cumpleanios))\n",
        "print(diccionario)\n",
        "print('El cumpleaños de Juan es:',diccionario['Juan'])"
      ],
      "metadata": {
        "colab": {
          "base_uri": "https://localhost:8080/"
        },
        "id": "Wc_UlvjZaQ7q",
        "outputId": "cad5df4e-057d-4d11-e3a6-ed2ce180c536"
      },
      "execution_count": 15,
      "outputs": [
        {
          "output_type": "stream",
          "name": "stdout",
          "text": [
            "{'Pablo': '10/4', 'Pedro': '2/2', 'Luis': '3/7', 'Juan': '29/2'}\n",
            "El cumpleaños de Juan es: 29/2\n"
          ]
        }
      ]
    },
    {
      "cell_type": "code",
      "source": [
        "#Sin usar zip...pero con comprensión\n",
        "nombres = ['Pablo','Pedro','Luis','Juan']\n",
        "cumpleanios = ['10/4','2/2','3/7','29/2']\n",
        "\n",
        "dciccionario = { nombres[i] : cumpleanios[i] for i in range(len(nombres))}\n",
        "print(diccionario)\n",
        "print('El cumpleaños de Juan es:',diccionario['Juan'])"
      ],
      "metadata": {
        "colab": {
          "base_uri": "https://localhost:8080/"
        },
        "id": "tLKxuZEdbRPY",
        "outputId": "6ec59040-ad81-457d-feae-c03685a5fec7"
      },
      "execution_count": 16,
      "outputs": [
        {
          "output_type": "stream",
          "name": "stdout",
          "text": [
            "{'Pablo': '10/4', 'Pedro': '2/2', 'Luis': '3/7', 'Juan': '29/2'}\n",
            "El cumpleaños de Juan es: 29/2\n"
          ]
        }
      ]
    },
    {
      "cell_type": "code",
      "source": [
        "#Sin nada...\n",
        "nombres = ['Pablo','Pedro','Luis','Juan']\n",
        "cumpleanios = ['10/4','2/2','3/7','29/2']\n",
        "\n",
        "diccionario2 = {}\n",
        "for i in range(len(nombres)):\n",
        "  diccionario2[nombres[i]] = cumpleanios[i]\n",
        "\n",
        "print(diccionario2)\n",
        "print('El cumpleaños de Juan es:',diccionario2['Juan'])"
      ],
      "metadata": {
        "colab": {
          "base_uri": "https://localhost:8080/"
        },
        "id": "1olp2AwPn2PU",
        "outputId": "b9452834-7811-4303-f68d-805c18db30a7"
      },
      "execution_count": 18,
      "outputs": [
        {
          "output_type": "stream",
          "name": "stdout",
          "text": [
            "{'Pablo': '10/4', 'Pedro': '2/2', 'Luis': '3/7', 'Juan': '29/2'}\n",
            "El cumpleaños de Juan es: 29/2\n"
          ]
        }
      ]
    },
    {
      "cell_type": "markdown",
      "source": [
        "\n",
        "\n",
        "---\n",
        "\n"
      ],
      "metadata": {
        "id": "GY3psF35ooSx"
      }
    },
    {
      "cell_type": "markdown",
      "source": [
        "**Ejercicio 6**. Dado el siguiente diccionario de notas de un examen:\n",
        "\n",
        "\n",
        "1.   Agregá las entradas de Lucas y Paula, quienes se sacaron un 8 y un 6, respectivamente.\n",
        "2.   Imprimí en pantalla los alumnos que hayan aprobado (nota >= 7) junto con su nota."
      ],
      "metadata": {
        "id": "hgEPOzUyopK5"
      }
    },
    {
      "cell_type": "code",
      "source": [
        "dic_notas = {'Alan':4, 'Brenda':9.5, 'Tomás':6.5, 'Juan':7, 'Ana':7, 'Sol':6}\n",
        "\n",
        "dic_notas['Lucas'] = 8\n",
        "dic_notas['Paula'] = 6\n",
        "\n",
        "#Con comprensión\n",
        "print('Alumnos aprobados: ', { clave:valor for clave,valor in dic_notas.items() if valor>=7})\n",
        "\n",
        "#Sin comprensión\n",
        "for clave,valor in dic_notas.items():\n",
        "  if ( valor >= 7):\n",
        "   print(clave, ' ',valor)"
      ],
      "metadata": {
        "colab": {
          "base_uri": "https://localhost:8080/"
        },
        "id": "yUcS3mNWoqQo",
        "outputId": "0d050f35-a51a-453b-c523-39331f440551"
      },
      "execution_count": 31,
      "outputs": [
        {
          "output_type": "stream",
          "name": "stdout",
          "text": [
            "Alumnos aprobados:  {'Brenda': 9.5, 'Juan': 7, 'Ana': 7, 'Lucas': 8}\n",
            "Brenda   9.5\n",
            "Juan   7\n",
            "Ana   7\n",
            "Lucas   8\n"
          ]
        }
      ]
    },
    {
      "cell_type": "markdown",
      "source": [
        "\n",
        "\n",
        "---\n",
        "\n"
      ],
      "metadata": {
        "id": "vIJDUYeTr670"
      }
    },
    {
      "cell_type": "markdown",
      "source": [
        "**Ejercicio 7**. Dada las listas de antes de nombres y compleaños:\n",
        "\n",
        "1.   Usando la función `zip()`. Creá una lista de tuplas (nombre, cumpleaños)\n",
        "\n",
        "2.   Ordená la lista de tuplas alfabéticamente según el nombre. ¿Qué pasaría sí quisieramos ordenarla por la fecha?  \n",
        "## *`  Al tratarse de tuplas, los ordenamientos se hacen siempre a partir del primer elemento`*\n",
        "\n",
        "3. Haciendo la operación inversa del `zip()`, recuperá las dos listas originales a partir de la lista de tuplas."
      ],
      "metadata": {
        "id": "4sZAlO59r797"
      }
    },
    {
      "cell_type": "code",
      "source": [
        "nombres = ['Pablo','Pedro','Luis','Juan']\n",
        "cumpleanios = ['10/4','2/2','3/7','29/2']\n",
        "\n",
        "# Inciso 1)\n",
        "lista = list(zip(nombres,cumpleanios))\n",
        "print(lista)\n",
        "\n",
        "# Inciso 2)\n",
        "lista_ordenada_nombres = sorted(lista)\n",
        "print(lista_ordenada_nombres)\n",
        "\n",
        "# Inciso 3)\n",
        "listas = list(zip(*lista_ordenada_nombres))\n",
        "print(listas[0])\n",
        "print(listas[1])"
      ],
      "metadata": {
        "colab": {
          "base_uri": "https://localhost:8080/"
        },
        "id": "rVt9vtavr9A8",
        "outputId": "6ac851b9-f21d-4856-d18e-10c4d78285d1"
      },
      "execution_count": 44,
      "outputs": [
        {
          "output_type": "stream",
          "name": "stdout",
          "text": [
            "[('Pablo', '10/4'), ('Pedro', '2/2'), ('Luis', '3/7'), ('Juan', '29/2')]\n",
            "[('Juan', '29/2'), ('Luis', '3/7'), ('Pablo', '10/4'), ('Pedro', '2/2')]\n",
            "('Juan', 'Luis', 'Pablo', 'Pedro')\n",
            "('29/2', '3/7', '10/4', '2/2')\n"
          ]
        }
      ]
    },
    {
      "cell_type": "markdown",
      "source": [
        "\n",
        "\n",
        "---\n",
        "\n"
      ],
      "metadata": {
        "id": "2HEchBzrww6U"
      }
    }
  ]
}
