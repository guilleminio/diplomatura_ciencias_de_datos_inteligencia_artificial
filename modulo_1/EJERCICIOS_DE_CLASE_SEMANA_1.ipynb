{
  "nbformat": 4,
  "nbformat_minor": 0,
  "metadata": {
    "colab": {
      "provenance": [],
      "authorship_tag": "ABX9TyNglOi7tMCppR7Br5BdzH8c"
    },
    "kernelspec": {
      "name": "python3",
      "display_name": "Python 3"
    },
    "language_info": {
      "name": "python"
    }
  },
  "cells": [
    {
      "cell_type": "markdown",
      "source": [
        "#EJERCICIOS DE CLASE: Semana 1\n",
        "\n",
        "---\n",
        "\n"
      ],
      "metadata": {
        "id": "0uNxYx_P4zov"
      }
    },
    {
      "cell_type": "markdown",
      "source": [
        "### Ejercicio 1\n",
        "**Rebotes**. Una pelota de goma es arrojada desde una altura de 100 metros y cada vez que toca el piso salta 3/5 de la altura desde la que cayó. Escribí un programa/script que imprima una tabla mostrando las alturas que alcanza en cada uno de sus primeros diez rebotes. Debería mostrar algo parecido a esto\n",
        "\n",
        "&nbsp;&nbsp; 1 &nbsp; 60.0\n",
        "\n",
        "&nbsp;&nbsp; 2 &nbsp; 36.0\n",
        "\n",
        "&nbsp;&nbsp; 3 &nbsp; 21.599999999999998\n",
        "\n",
        "&nbsp;&nbsp; 4 &nbsp; 12.959999999999999\n",
        "\n",
        "&nbsp;&nbsp; etc."
      ],
      "metadata": {
        "id": "8hnGwG7Z5ZYL"
      }
    },
    {
      "cell_type": "code",
      "source": [
        "altura = 100 #Expresada en metros\n",
        "salto = 3 / 5\n",
        "cantidad_de_rebotes = 10\n",
        "\n",
        "print('ALTURAS')\n",
        "print('-------')\n",
        "#Uso un ciclo for porque ya se la cantidad de veces que se va a ejecutar\n",
        "for i in range(cantidad_de_rebotes):\n",
        "  #En cada iteración, se debe actualizar la altura en función del salto\n",
        "  altura = salto*altura \n",
        "  print(altura,' metros')\n",
        "\n"
      ],
      "metadata": {
        "colab": {
          "base_uri": "https://localhost:8080/"
        },
        "id": "6kaYQpmc5axM",
        "outputId": "68820193-483b-4206-86ad-e75a1b32c174"
      },
      "execution_count": 3,
      "outputs": [
        {
          "output_type": "stream",
          "name": "stdout",
          "text": [
            "ALTURAS\n",
            "-------\n",
            "60.0  metros\n",
            "36.0  metros\n",
            "21.599999999999998  metros\n",
            "12.959999999999999  metros\n",
            "7.775999999999999  metros\n",
            "4.6655999999999995  metros\n",
            "2.7993599999999996  metros\n",
            "1.6796159999999998  metros\n",
            "1.0077695999999998  metros\n",
            "0.6046617599999998  metros\n"
          ]
        }
      ]
    },
    {
      "cell_type": "markdown",
      "source": [
        "\n",
        "\n",
        "---\n",
        "\n"
      ],
      "metadata": {
        "id": "qB1g_ujY7ixf"
      }
    },
    {
      "cell_type": "markdown",
      "source": [
        "### Ejercicio 2\n",
        "**Mini Quiz**. Hacer un programa/script que le pregunte al usuario en qué año ocurrió el descubrimiento de América (1492), y que le responda si acertó o no."
      ],
      "metadata": {
        "id": "imhfQHoU44gn"
      }
    },
    {
      "cell_type": "code",
      "source": [
        "descubrimiento = 1942\n",
        "#La entrada es un string, por lo tanto, necesito pasarlo a entero\n",
        "anio_descubrimiento = int(input('¿En que año se descubrió América? '))\n",
        "\n",
        "#Hago uso del operador ternario\n",
        "print('La respuesta es correcta!' if anio_descubrimiento == descubrimiento else 'La respuesta es incorrecta :/')"
      ],
      "metadata": {
        "colab": {
          "base_uri": "https://localhost:8080/"
        },
        "id": "0kVPLgsK6uVR",
        "outputId": "02af4b3c-7664-4562-fd1d-04699419bfab"
      },
      "execution_count": 5,
      "outputs": [
        {
          "output_type": "stream",
          "name": "stdout",
          "text": [
            "¿En que año se descubrió América? 1935\n",
            "La respuesta es incorrecta :/\n"
          ]
        }
      ]
    },
    {
      "cell_type": "markdown",
      "source": [
        "\n",
        "\n",
        "---\n",
        "\n"
      ],
      "metadata": {
        "id": "fRtjS4w87hgY"
      }
    },
    {
      "cell_type": "markdown",
      "source": [
        "### Ejercicio 3\n",
        "\n",
        "**Intereses**. Suponé que tenes $100 dólares, que podés invertir con un 10% de retorno anual. Después de un año, esto es  100 x 1.1 = 110 dólares y luego de dos años es 100 x 1.1 x 1.1 = 121. Escribí el código para calcular cuanto dinero vas a tener al cabo de 7 años, e imprimí el resultado. "
      ],
      "metadata": {
        "id": "wZ4lbUUJ47sb"
      }
    },
    {
      "cell_type": "code",
      "source": [
        "cantidad_dinero = 100 #Valor inicial, lo que tengo\n",
        "retorno = 10 / 100\n",
        "cantidad_de_anios = 7\n",
        "\n",
        "for i in range(cantidad_de_anios):\n",
        "  #Actualizo el dinero en función del retorno\n",
        "  cantidad_dinero = cantidad_dinero*(1 + retorno) \n",
        "\n",
        "print(f'Al cabo de {cantidad_de_anios} años tendré: ${cantidad_dinero}')"
      ],
      "metadata": {
        "colab": {
          "base_uri": "https://localhost:8080/"
        },
        "id": "CmEpdapg7lkf",
        "outputId": "e8907a2b-bc68-4ffc-d98e-fa01a6da4f91"
      },
      "execution_count": 9,
      "outputs": [
        {
          "output_type": "stream",
          "name": "stdout",
          "text": [
            "Al cabo de 7 años tendré: $194.87171000000015\n"
          ]
        }
      ]
    },
    {
      "cell_type": "markdown",
      "source": [
        "### Ejercicio 4\n",
        "**La hipoteca de David**. David solicitó un crédito a 30 años para comprar una vivienda, con una tasa fija nominal anual del 5%. Pidió \\$500000 al banco y acordó un pago mensual fijo de \\$2684,11.\n",
        "\n",
        "El siguiente es un programa que calcula el monto total que pagará David a lo largo de los años:"
      ],
      "metadata": {
        "id": "ma1I491T4_UL"
      }
    },
    {
      "cell_type": "code",
      "source": [
        "tasa_fija_anual = (5 / 100)  / 12 #A la taza la divido por la cantidad de meses\n",
        "prestamo = 500000\n",
        "pago_mensual = 2684.11\n",
        "pagado = 0\n",
        "\n",
        "#Aquí uso un while porque no conozco la cantidad de iteraciones a priori\n",
        "#Sólo se que el prestamo se va actualizando (disminuyendo) en función de\n",
        "#lo que va pagando, entonces, cuando 'prestamo' sea 0, debo terminar\n",
        "while prestamo > 0:\n",
        "  prestamo = prestamo*(1+tasa_fija_anual)  - pago_mensual\n",
        "  pagado = pagado + pago_mensual\n",
        "\n",
        "print('Total pagado: ', round(pagado,2))"
      ],
      "metadata": {
        "colab": {
          "base_uri": "https://localhost:8080/"
        },
        "id": "_WoM3PHh5Fvz",
        "outputId": "80109c60-557f-4d69-d2f2-0307773fa450"
      },
      "execution_count": 12,
      "outputs": [
        {
          "output_type": "stream",
          "name": "stdout",
          "text": [
            "Total pagado:  966279.6\n"
          ]
        }
      ]
    },
    {
      "cell_type": "markdown",
      "source": [
        "Supongamos que David adelanta pagos extra de \\$1000 por mes durante los primeros 12 meses de la hipoteca. Modificá abajo el programa para incorporar estos pagos extra y que imprima el monto total pagado junto con la cantidad de meses requeridos. Debería dar un pago total de 929965.62 en 342 meses."
      ],
      "metadata": {
        "id": "g0eppzbl5GF0"
      }
    },
    {
      "cell_type": "code",
      "source": [
        "tasa_fija_anual = (5 / 100)  / 12 #A la taza la divido por la cantidad de meses\n",
        "prestamo = 500000\n",
        "pago_mensual = 2684.11\n",
        "pagado = 0\n",
        "adelanto = 1000\n",
        "mes = 0\n",
        "total_meses = 12\n",
        "\n",
        "#Aquí uso un while porque no conozco la cantidad de iteraciones a priori\n",
        "#Sólo se que el prestamo se va actualizando (disminuyendo) en función de\n",
        "#lo que va pagando, entonces, cuando 'prestamo' sea 0, debo terminar\n",
        "while prestamo > 0:\n",
        "  #Si estoy dentro de los 12 meses, entonces hago los cálculos incluyendo\n",
        "  #el adelanto. De lo contrario, el cálculo es sin el adelanto\n",
        "  if mes < total_meses:\n",
        "    prestamo = prestamo*(1+tasa_fija_anual)  - pago_mensual - adelanto\n",
        "    pagado = pagado + pago_mensual + adelanto\n",
        "  else:\n",
        "    prestamo = prestamo*(1+tasa_fija_anual)  - pago_mensual\n",
        "    pagado = pagado + pago_mensual \n",
        "  #Incremento el mes\n",
        "  mes = mes +1\n",
        "\n",
        "print('Total pagado: ', round(pagado,2))\n",
        "print('Cantidad de meses: ', mes)"
      ],
      "metadata": {
        "colab": {
          "base_uri": "https://localhost:8080/"
        },
        "id": "8CCi8tzr5Knk",
        "outputId": "328d2937-e767-4530-f41a-246e908d0a02"
      },
      "execution_count": 8,
      "outputs": [
        {
          "output_type": "stream",
          "name": "stdout",
          "text": [
            "Total pagado:  929965.62\n",
            "Cantidad de meses:  342\n"
          ]
        }
      ]
    },
    {
      "cell_type": "markdown",
      "source": [
        "**(Opcional)**. ¿Cuánto pagaría David si agrega $1000 por mes durante cuatro años, comenzando en el sexto año de la hipoteca (es decir, luego de 5 años)? Modificá tu programa de forma que la información sobre pagos extras sea incorporada de manera versátil. Agregá las siguientes variables antes del ciclo, para definir el comienzo, fin y monto de los pagos extras:"
      ],
      "metadata": {
        "id": "8dez9coK5K6E"
      }
    },
    {
      "cell_type": "code",
      "source": [
        "#Agregados\n",
        "pago_extra_mes_comienzo = 61 #5 años tienen 60 meses, comienza a pagar el primer mes del sexto año, es decir, en el mes 61\n",
        "pago_extra_mes_fin = 108 #4 años tienen 48 meses, pero, se debe descontar el mes añadido en la variable anterior\n",
        "\n",
        "tasa_fija_anual = (5 / 100)  / 12 #A la taza la divido por la cantidad de meses\n",
        "prestamo = 500000\n",
        "pago_mensual = 2684.11\n",
        "pagado = 0\n",
        "adelanto = 1000\n",
        "mes = pago_extra_mes_comienzo\n",
        "total_meses = 12\n",
        "\n",
        "#Aquí uso un while porque no conozco la cantidad de iteraciones a priori\n",
        "#Sólo se que el prestamo se va actualizando (disminuyendo) en función de\n",
        "#lo que va pagando, entonces, cuando 'prestamo' sea 0, debo terminar\n",
        "while prestamo > 0:\n",
        "  #Si estoy dentro de los 4 años, entonces hago los cálculos incluyendo\n",
        "  #el adelanto. De lo contrario, el cálculo es sin el adelanto\n",
        "  if mes < pago_extra_mes_fin:\n",
        "    prestamo = prestamo*(1+tasa_fija_anual)  - pago_mensual - adelanto\n",
        "    pagado = pagado + pago_mensual + adelanto\n",
        "  else:\n",
        "    prestamo = prestamo*(1+tasa_fija_anual)  - pago_mensual\n",
        "    pagado = pagado + pago_mensual \n",
        "  #Incremento el mes\n",
        "  mes = mes +1\n",
        "\n",
        "print('Total pagado: ', round(pagado,2))\n",
        "print('Cantidad de meses: ', mes)"
      ],
      "metadata": {
        "colab": {
          "base_uri": "https://localhost:8080/"
        },
        "id": "j2fPVpyFCynD",
        "outputId": "ca72be17-b6c1-4b44-d82a-f6e4bdb913e1"
      },
      "execution_count": 9,
      "outputs": [
        {
          "output_type": "stream",
          "name": "stdout",
          "text": [
            "Total pagado:  846864.78\n",
            "Cantidad de meses:  359\n"
          ]
        }
      ]
    }
  ]
}
