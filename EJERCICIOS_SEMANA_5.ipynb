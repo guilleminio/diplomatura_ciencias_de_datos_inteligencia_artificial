{
  "nbformat": 4,
  "nbformat_minor": 0,
  "metadata": {
    "colab": {
      "provenance": [],
      "mount_file_id": "1qUa1WV5KNG6zjru2SOQee44b36Fo29HI",
      "authorship_tag": "ABX9TyPesOMWNpR9tDcXD9OfIsia"
    },
    "kernelspec": {
      "name": "python3",
      "display_name": "Python 3"
    },
    "language_info": {
      "name": "python"
    }
  },
  "cells": [
    {
      "cell_type": "markdown",
      "source": [
        "SEMANA 5   \n",
        "Manipulación de archivos  \n",
        "Miño, Guille"
      ],
      "metadata": {
        "id": "8vCUVKJ5UEH5"
      }
    },
    {
      "cell_type": "markdown",
      "source": [
        "---\n",
        "Antes de empezar, preparo el directorio de trabajo..\n",
        "\n"
      ],
      "metadata": {
        "id": "8LCj7coMUUyW"
      }
    },
    {
      "cell_type": "code",
      "source": [
        "import os\n",
        "import csv\n",
        "\n",
        "os.chdir('TU DIRECTORIO DE TRABAJO')"
      ],
      "metadata": {
        "id": "IpIRykBXUaFQ"
      },
      "execution_count": 6,
      "outputs": []
    },
    {
      "cell_type": "markdown",
      "source": [
        "---\n",
        "### Ejercicio 1:\n",
        "**Temperaturas máximas**\n",
        "En la página del servicio metereológico nacional es posible descargar algunos [datos históriocos](https://www.smn.gob.ar/descarga-de-datos). A partir de los archivos: \n",
        "* `estaciones_metereologicas.csv` que contiene la información de las estaciones metereologicas en el país. \n",
        "* `registro_temperatura365d_smn.csv`que tiene, para las diferentes estaciones metereologicas, los valores máximos y mínimos de temperatura registrados para diferentes días en el último año. \n",
        "\n",
        "Determinar para la región del país en donde vive cuál fue la mínima y máxima temperatura registrada en el último año y para que día fue.\n"
      ],
      "metadata": {
        "id": "pVjFZlxhUPG4"
      }
    },
    {
      "cell_type": "markdown",
      "source": [
        "---\n",
        "##**Resolución:**  \n",
        "Primero, abro el archivo de estaciones y con los datos, genero una lista de aquellas estaciones que se encuentren en la provincia de **Buenos Aires**.\n"
      ],
      "metadata": {
        "id": "jwBjK5xdkzP9"
      }
    },
    {
      "cell_type": "code",
      "source": [
        "#Apertura del archivo de estaciones\n",
        "with open('estaciones_metereologicas.csv') as archivo_estaciones:\n",
        "  datos = csv.reader(archivo_estaciones)\n",
        "  encabezado = next(datos)\n",
        "  print(encabezado)\n",
        "  lista_estaciones = []\n",
        "  indice = 0\n",
        "  for fila in datos:\n",
        "    if fila[1].lower() == 'buenos aires':\n",
        "      lista_estaciones.append(fila)\n",
        "    \n",
        "print(lista_estaciones)"
      ],
      "metadata": {
        "id": "tqqz_vCnUSg4"
      },
      "execution_count": null,
      "outputs": []
    },
    {
      "cell_type": "markdown",
      "source": [
        "De la lista que obtuve, quiero trabajar con la estación **BAHÍA BLANCA AERO**  \n",
        "\n",
        "Para ello, abro el archivo de temperaturas y obtengo las temperaturas máximas y mínimas junto con las fechas de registro para esa estación."
      ],
      "metadata": {
        "id": "GGA9AwJ7lMtC"
      }
    },
    {
      "cell_type": "code",
      "source": [
        "#Apertura del archivo de temperaturas\n",
        "with open('registro_temperatura365d_smn.csv') as archivo_temperaturas:\n",
        "  datos = csv.reader(archivo_temperaturas)\n",
        "  encabezado = next(datos)\n",
        "  #El archivo tiene las temperaturas máximas y mínimas registradas en cada día\n",
        "  #es por eso que necesitamos las listas.Es decir, 'BAHIA BLANCA AERO' va a estar\n",
        "  #más de una vez.\n",
        "  lista_temperaturas_maximas = []\n",
        "  lista_temperaturas_minimas = []\n",
        "  for fila in datos:\n",
        "    if fila[-1] == 'BAHIA BLANCA AERO':\n",
        "      #formato tupla --> (temperatura, fecha_registro)\n",
        "      tupla_maxima = (float(fila[1]),fila[0])\n",
        "      tupla_minima = (float(fila[2]),fila[0])\n",
        "      lista_temperaturas_maximas.append(tupla_maxima)\n",
        "      lista_temperaturas_minimas.append(tupla_minima)"
      ],
      "metadata": {
        "id": "bYg-hsHIlPAh"
      },
      "execution_count": 25,
      "outputs": []
    },
    {
      "cell_type": "markdown",
      "source": [
        "Por último, del listado obtenido, usando las funciones MAX y MIN, determino la temperatura máxima (de todas las máximas) y la temperatura mínima (de todas las mínimas)"
      ],
      "metadata": {
        "id": "i6OMhAurOqEo"
      }
    },
    {
      "cell_type": "code",
      "source": [
        "print(\"\\n\\nTemperatura máxima: \",max(lista_temperaturas_maximas))\n",
        "print(\"\\n\\nTemperatura mínima: \",min(lista_temperaturas_minimas))"
      ],
      "metadata": {
        "id": "Pzlx1Q2aO5qT"
      },
      "execution_count": null,
      "outputs": []
    },
    {
      "cell_type": "markdown",
      "source": [
        "**Comentario:**  \n",
        "Eligo trabajar con tuplas para el registro de los datos con el objetivo de facilitar la obtención de la fecha en la que se registró la temperatura máxima (máxima de las máximas) y mínima (mínima de las mínimas). Lo importante a tener en cuenta con las tuplas, es que para poder hacer uso correcto de las funciones MAX y MIN, el dato de la temperatura tiene que estar en primer lugar."
      ],
      "metadata": {
        "id": "VF5VWtwnmFbS"
      }
    },
    {
      "cell_type": "markdown",
      "source": [
        "---\n",
        "### Ejercicio 2:\n",
        "Escribir un programa que pida un número entero entre 1 y 10 y guarde en un fichero con el nombre `tabla-n.txt` la tabla de multiplicar de ese número, done `n` es el número introducido."
      ],
      "metadata": {
        "id": "JozruiIlHM7G"
      }
    },
    {
      "cell_type": "code",
      "source": [
        "import random as r\n",
        "\n",
        "multiplicando = r.randint(1,10)\n",
        "LIMITE = 11\n",
        "  \n",
        "nombre_archivo = 'tabla_de_multiplicar_del_'+str(multiplicando)+'.txt'\n",
        "with open(nombre_archivo,'wt') as archivo:\n",
        "  archivo.write(f'Tabla de multiplicar del número {multiplicando}\\n')\n",
        "  archivo.write('--------------------------------------\\n')\n",
        "  for multiplicador in range(1,LIMITE):\n",
        "    producto = multiplicando*multiplicador\n",
        "    archivo.write(f'{multiplicando} x {multiplicador} = {producto}\\n')\n",
        "\n"
      ],
      "metadata": {
        "id": "FPIud7uOHQsl"
      },
      "execution_count": 23,
      "outputs": []
    }
  ]
}